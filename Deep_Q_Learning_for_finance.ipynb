{
  "cells": [
    {
      "cell_type": "markdown",
      "metadata": {
        "id": "view-in-github",
        "colab_type": "text"
      },
      "source": [
        "<a href=\"https://colab.research.google.com/github/bhardwajshivam/Deep-Q-learning-for-Finance/blob/main/Deep_Q_Learning_for_finance.ipynb\" target=\"_parent\"><img src=\"https://colab.research.google.com/assets/colab-badge.svg\" alt=\"Open In Colab\"/></a>"
      ]
    },
    {
      "cell_type": "markdown",
      "metadata": {
        "id": "OeSvQ_uLSD5Z"
      },
      "source": [
        "# Deep Q Learning for finance"
      ]
    },
    {
      "cell_type": "code",
      "execution_count": null,
      "metadata": {
        "colab": {
          "base_uri": "https://localhost:8080/"
        },
        "id": "q7H7wDHjSBN_",
        "outputId": "72bbd919-792f-4faa-8ac1-0046b26c159a"
      },
      "outputs": [
        {
          "name": "stderr",
          "output_type": "stream",
          "text": [
            "<ipython-input-1-eabaf03f8e47>:7: MatplotlibDeprecationWarning: The seaborn styles shipped by Matplotlib are deprecated since 3.6, as they no longer correspond to the styles shipped by seaborn. However, they will remain available as 'seaborn-v0_8-<style>'. Alternatively, directly use the seaborn API instead.\n",
            "  plt.style.use('seaborn')\n"
          ]
        }
      ],
      "source": [
        "import os\n",
        "import math\n",
        "import random\n",
        "import numpy as np\n",
        "import pandas as pd\n",
        "from pylab import plt, mpl\n",
        "plt.style.use('seaborn')\n",
        "mpl.rcParams['font.family'] = 'serif'\n",
        "np.set_printoptions(precision=4, suppress=True)\n",
        "os.environ['PYTHONHASHSEED'] = '0'\n",
        "%config InlineBackend.figure_format = 'svg'"
      ]
    },
    {
      "cell_type": "code",
      "execution_count": null,
      "metadata": {
        "id": "Zg_Ul_WSSG4r"
      },
      "outputs": [],
      "source": [
        "import warnings as w\n",
        "w.simplefilter('ignore')"
      ]
    },
    {
      "cell_type": "code",
      "execution_count": null,
      "metadata": {
        "id": "N0cDcwPtSK4x"
      },
      "outputs": [],
      "source": [
        "\n",
        "os.environ['TF_CPP_MIN_LOG_LEVEL'] = '4'\n"
      ]
    },
    {
      "cell_type": "code",
      "execution_count": null,
      "metadata": {
        "id": "IRYVc4pzSMTc"
      },
      "outputs": [],
      "source": [
        "from tensorflow.python.framework.ops import disable_eager_execution\n",
        "disable_eager_execution()"
      ]
    },
    {
      "cell_type": "code",
      "execution_count": null,
      "metadata": {
        "colab": {
          "base_uri": "https://localhost:8080/",
          "height": 35
        },
        "id": "xa45hM_MSNr4",
        "outputId": "99d25f52-fe6b-4631-8b19-ba40fde24a23"
      },
      "outputs": [
        {
          "data": {
            "application/vnd.google.colaboratory.intrinsic+json": {
              "type": "string"
            },
            "text/plain": [
              "'2.14.0'"
            ]
          },
          "execution_count": 5,
          "metadata": {},
          "output_type": "execute_result"
        }
      ],
      "source": [
        "import tensorflow as tf\n",
        "tf.__version__"
      ]
    },
    {
      "cell_type": "code",
      "execution_count": null,
      "metadata": {
        "id": "XhyBI-XXSRA3"
      },
      "outputs": [],
      "source": [
        "from tensorflow import keras\n",
        "from keras.layers import Dense\n",
        "from keras.models import Sequential\n",
        "from sklearn.metrics import accuracy_score"
      ]
    },
    {
      "cell_type": "code",
      "execution_count": null,
      "metadata": {
        "id": "wiQX7DswSnEb"
      },
      "outputs": [],
      "source": [
        "def set_seeds(seed=100):\n",
        "    random.seed(seed)\n",
        "    np.random.seed(seed)\n",
        "    tf.random.set_seed(seed)\n",
        "    env.seed(seed)\n",
        "    env.action_space.seed(100)\n"
      ]
    },
    {
      "cell_type": "markdown",
      "metadata": {
        "id": "2VR0Dyv6SVXl"
      },
      "source": [
        "## Q-Learning\n"
      ]
    },
    {
      "cell_type": "code",
      "execution_count": null,
      "metadata": {
        "id": "FTVL3gZ8STIP"
      },
      "outputs": [],
      "source": [
        "from collections import deque"
      ]
    },
    {
      "cell_type": "code",
      "execution_count": null,
      "metadata": {
        "id": "tls2RH2-Sa-x"
      },
      "outputs": [],
      "source": [
        "class DQLAgent:\n",
        "    def __init__(self, gamma=0.95, hu=24, opt=keras.optimizers.legacy.Adam,\n",
        "           lr=0.001, finish=False):\n",
        "        self.finish = finish\n",
        "        self.epsilon = 1.0\n",
        "        self.epsilon_min = 0.01\n",
        "        self.epsilon_decay = 0.995\n",
        "        self.gamma = gamma\n",
        "        self.batch_size = 32\n",
        "        self.max_treward = 0\n",
        "        self.averages = list()\n",
        "        self.memory = deque(maxlen=2000)\n",
        "        self.osn = env.observation_space.shape[0]\n",
        "        self.model = self._build_model(hu, opt, lr)\n",
        "\n",
        "    def _build_model(self, hu, opt, lr):\n",
        "        model = Sequential()\n",
        "        model.add(Dense(hu, input_dim=self.osn,\n",
        "                        activation='relu'))\n",
        "        model.add(Dense(hu, activation='relu'))\n",
        "        model.add(Dense(env.action_space.n, activation='linear'))\n",
        "        model.compile(loss='mse', optimizer=opt(learning_rate=lr))\n",
        "        return model\n",
        "\n",
        "    def act(self, state):\n",
        "        if random.random() <= self.epsilon:\n",
        "            return env.action_space.sample()\n",
        "        action = self.model.predict(state)[0]\n",
        "        return np.argmax(action)\n",
        "\n",
        "    def replay(self):\n",
        "        batch = random.sample(self.memory, self.batch_size)\n",
        "        for state, action, reward, next_state, done in batch:\n",
        "            if not done:\n",
        "                reward += self.gamma * np.amax(\n",
        "                    self.model.predict(next_state)[0])\n",
        "            target = self.model.predict(state)\n",
        "            target[0, action] = reward\n",
        "            self.model.fit(state, target, epochs=1,\n",
        "                           verbose=False)\n",
        "        if self.epsilon > self.epsilon_min:\n",
        "            self.epsilon *= self.epsilon_decay\n",
        "\n",
        "    def learn(self, episodes):\n",
        "        trewards = []\n",
        "        for e in range(1, episodes + 1):\n",
        "            state = env.reset()\n",
        "            state = np.reshape(state, [1, self.osn])\n",
        "            for _ in range(5000):\n",
        "                action = self.act(state)\n",
        "                next_state, reward, done, info = env.step(action)\n",
        "                next_state = np.reshape(next_state,\n",
        "                                        [1, self.osn])\n",
        "                self.memory.append([state, action, reward,\n",
        "                                     next_state, done])\n",
        "                state = next_state\n",
        "                if done:\n",
        "                    treward = _ + 1\n",
        "                    trewards.append(treward)\n",
        "                    av = sum(trewards[-25:]) / 25\n",
        "                    self.averages.append(av)\n",
        "                    self.max_treward = max(self.max_treward, treward)\n",
        "                    templ = 'episode: {:4d}/{} | treward: {:4d} | '\n",
        "                    templ += 'av: {:6.1f} | max: {:4d}'\n",
        "                    print(templ.format(e, episodes, treward, av,\n",
        "                                       self.max_treward), end='\\r')\n",
        "                    break\n",
        "            if av > 195 and self.finish:\n",
        "                break\n",
        "            if len(self.memory) > self.batch_size:\n",
        "                self.replay()\n",
        "        print()\n",
        "    def test(self, episodes):\n",
        "        trewards = []\n",
        "        for e in range(1, episodes + 1):\n",
        "            state = env.reset()\n",
        "            for _ in range(5001):\n",
        "                state = np.reshape(state, [1, self.osn])\n",
        "                action = np.argmax(self.model.predict(state)[0])\n",
        "                next_state, reward, done, info = env.step(action)\n",
        "                state = next_state\n",
        "                if done:\n",
        "                    treward = _ + 1\n",
        "                    trewards.append(treward)\n",
        "                    print('episode: {:4d}/{} | treward: {:4d}'\n",
        "                          .format(e, episodes, treward), end='\\r')\n",
        "                    break\n",
        "        return trewards"
      ]
    },
    {
      "cell_type": "markdown",
      "metadata": {
        "id": "a1PPpUpxSr4V"
      },
      "source": [
        "## Finance environment"
      ]
    },
    {
      "cell_type": "code",
      "execution_count": null,
      "metadata": {
        "id": "T_e0jOr0Sq2U"
      },
      "outputs": [],
      "source": [
        "class observation_space:\n",
        "    def __init__(self, n):\n",
        "        self.shape = (n,)"
      ]
    },
    {
      "cell_type": "code",
      "execution_count": null,
      "metadata": {
        "id": "b8XDMIGsSvv9"
      },
      "outputs": [],
      "source": [
        "class action_space:\n",
        "    def __init__(self, n):\n",
        "        self.n = n\n",
        "    def seed(self, seed):\n",
        "        random.seed(seed)\n",
        "    def sample(self):\n",
        "        return random.randint(0, self.n - 1)"
      ]
    },
    {
      "cell_type": "code",
      "execution_count": null,
      "metadata": {
        "id": "Hu9ozVxMSzEe"
      },
      "outputs": [],
      "source": [
        "class Finance:\n",
        "\n",
        "    def __init__(self, symbol, features):\n",
        "        self.symbol = symbol\n",
        "        self.features = features\n",
        "        self.observation_space = observation_space(4)\n",
        "        self.osn = self.observation_space.shape[0]\n",
        "        self.action_space = action_space(2)\n",
        "        self.min_accuracy = 0.475\n",
        "        self._get_data()\n",
        "        self._prepare_data()\n",
        "    def _get_data(self):\n",
        "        self.raw = pd.read_csv(self.url, index_col=0,\n",
        "                               parse_dates=True).dropna()\n",
        "    def _prepare_data(self):\n",
        "        self.data = pd.DataFrame(self.raw[self.symbol])\n",
        "        self.data['r'] = np.log(self.data / self.data.shift(1))\n",
        "        self.data.dropna(inplace=True)\n",
        "        self.data = (self.data - self.data.mean()) / self.data.std()\n",
        "        self.data['d'] = np.where(self.data['r'] > 0, 1, 0)\n",
        "    def _get_state(self):\n",
        "        return self.data[self.features].iloc[\n",
        "            self.bar - self.osn:self.bar].values\n",
        "    def seed(self, seed=None):\n",
        "        pass\n",
        "    def reset(self):\n",
        "        self.treward = 0\n",
        "        self.accuracy = 0\n",
        "        self.bar = self.osn\n",
        "        state = self.data[self.features].iloc[\n",
        "            self.bar - self.osn:self.bar]\n",
        "        return state.values\n",
        "    def step(self, action):\n",
        "        correct = action == self.data['d'].iloc[self.bar]\n",
        "        reward = 1 if correct else 0\n",
        "        self.treward += reward\n",
        "        self.bar += 1\n",
        "        self.accuracy = self.treward / (self.bar - self.osn)\n",
        "        if self.bar >= len(self.data):\n",
        "            done = True\n",
        "        elif reward == 1:\n",
        "            done = False\n",
        "        elif (self.accuracy < self.min_accuracy and\n",
        "              self.bar > self.osn + 10):\n",
        "            done = True\n",
        "        else:\n",
        "            done = False\n",
        "        state = self._get_state()\n",
        "        info = {}\n",
        "        return state, reward, done, info"
      ]
    },
    {
      "cell_type": "code",
      "execution_count": null,
      "metadata": {
        "id": "wYjqQctLS2yJ"
      },
      "outputs": [],
      "source": [
        "env = Finance('EUR=', 'EUR=')  # price as feature"
      ]
    },
    {
      "cell_type": "code",
      "execution_count": null,
      "metadata": {
        "id": "7-uDSL66S4U6"
      },
      "outputs": [],
      "source": [
        "\n",
        "env = Finance('EUR=', 'r')  # log return as feature"
      ]
    },
    {
      "cell_type": "code",
      "execution_count": null,
      "metadata": {
        "colab": {
          "base_uri": "https://localhost:8080/"
        },
        "id": "rQme_U4fS5-o",
        "outputId": "06a647da-4788-4795-8d0b-e5bf6ea25f8c"
      },
      "outputs": [
        {
          "data": {
            "text/plain": [
              "array([-0.5125,  0.5603, -1.1434,  1.1788])"
            ]
          },
          "execution_count": 15,
          "metadata": {},
          "output_type": "execute_result"
        }
      ],
      "source": [
        "env.reset()\n"
      ]
    },
    {
      "cell_type": "code",
      "execution_count": null,
      "metadata": {
        "colab": {
          "base_uri": "https://localhost:8080/"
        },
        "id": "8skD3SCtS8AQ",
        "outputId": "0f24507e-349a-4e84-fa7f-7c7745cfaeff"
      },
      "outputs": [
        {
          "data": {
            "text/plain": [
              "0"
            ]
          },
          "execution_count": 16,
          "metadata": {},
          "output_type": "execute_result"
        }
      ],
      "source": [
        "a = env.action_space.sample()\n",
        "a"
      ]
    },
    {
      "cell_type": "code",
      "execution_count": null,
      "metadata": {
        "colab": {
          "base_uri": "https://localhost:8080/"
        },
        "id": "YSNOcYhlS9pU",
        "outputId": "b3c3855f-98b3-481c-a3e4-fdcd9c6b94d0"
      },
      "outputs": [
        {
          "data": {
            "text/plain": [
              "(array([ 0.5603, -1.1434,  1.1788,  1.2569]), 0, False, {})"
            ]
          },
          "execution_count": 17,
          "metadata": {},
          "output_type": "execute_result"
        }
      ],
      "source": [
        "env.step(a)"
      ]
    },
    {
      "cell_type": "code",
      "execution_count": null,
      "metadata": {
        "id": "3OYrfeYtS_rk"
      },
      "outputs": [],
      "source": [
        "set_seeds(100)\n",
        "agent = DQLAgent(gamma=0.5, opt=keras.optimizers.legacy.RMSprop)"
      ]
    },
    {
      "cell_type": "code",
      "execution_count": null,
      "metadata": {
        "id": "aiNpI30VTBq_"
      },
      "outputs": [],
      "source": [
        "episodes = 300"
      ]
    },
    {
      "cell_type": "code",
      "execution_count": null,
      "metadata": {
        "colab": {
          "background_save": true,
          "base_uri": "https://localhost:8080/"
        },
        "id": "cKBA-tnuTDmC",
        "outputId": "8f0ac291-cbcb-45ed-b0fb-b9e7a803394a"
      },
      "outputs": [
        {
          "name": "stdout",
          "output_type": "stream",
          "text": [
            "\n",
            "CPU times: user 6min 5s, sys: 14.7 s, total: 6min 20s\n",
            "Wall time: 6min 5s\n"
          ]
        }
      ],
      "source": [
        "%time agent.learn(episodes)"
      ]
    },
    {
      "cell_type": "code",
      "execution_count": null,
      "metadata": {
        "colab": {
          "background_save": true
        },
        "id": "8BOCPqp2TE3v",
        "outputId": "6113a1ee-b026-4821-e581-34547ad87df6"
      },
      "outputs": [
        {
          "data": {
            "text/plain": [
              "0.22453190559909803"
            ]
          },
          "execution_count": 21,
          "metadata": {},
          "output_type": "execute_result"
        }
      ],
      "source": [
        "agent.epsilon\n"
      ]
    },
    {
      "cell_type": "code",
      "execution_count": null,
      "metadata": {
        "colab": {
          "background_save": true
        },
        "id": "r1kPJyP2TK9u",
        "outputId": "cdaca5cf-2d3e-4e47-cf2a-d750626ec55b"
      },
      "outputs": [
        {
          "name": "stdout",
          "output_type": "stream",
          "text": [
            ""
          ]
        },
        {
          "data": {
            "text/plain": [
              "[2511, 2511, 2511]"
            ]
          },
          "execution_count": 22,
          "metadata": {},
          "output_type": "execute_result"
        }
      ],
      "source": [
        "agent.test(3)"
      ]
    },
    {
      "cell_type": "code",
      "execution_count": null,
      "metadata": {
        "colab": {
          "background_save": true
        },
        "id": "vkg1GcT4TMD5",
        "outputId": "e02167c3-b3d4-4217-b8a9-f3fd88641bec"
      },
      "outputs": [
        {
          "data": {
            "image/svg+xml": "<?xml version=\"1.0\" encoding=\"utf-8\" standalone=\"no\"?>\n<!DOCTYPE svg PUBLIC \"-//W3C//DTD SVG 1.1//EN\"\n  \"http://www.w3.org/Graphics/SVG/1.1/DTD/svg11.dtd\">\n<svg xmlns:xlink=\"http://www.w3.org/1999/xlink\" width=\"619.495937pt\" height=\"378.364062pt\" viewBox=\"0 0 619.495937 378.364062\" xmlns=\"http://www.w3.org/2000/svg\" version=\"1.1\">\n <metadata>\n  <rdf:RDF xmlns:dc=\"http://purl.org/dc/elements/1.1/\" xmlns:cc=\"http://creativecommons.org/ns#\" xmlns:rdf=\"http://www.w3.org/1999/02/22-rdf-syntax-ns#\">\n   <cc:Work>\n    <dc:type rdf:resource=\"http://purl.org/dc/dcmitype/StillImage\"/>\n    <dc:date>2023-12-10T22:52:44.490739</dc:date>\n    <dc:format>image/svg+xml</dc:format>\n    <dc:creator>\n     <cc:Agent>\n      <dc:title>Matplotlib v3.7.1, https://matplotlib.org/</dc:title>\n     </cc:Agent>\n    </dc:creator>\n   </cc:Work>\n  </rdf:RDF>\n </metadata>\n <defs>\n  <style type=\"text/css\">*{stroke-linejoin: round; stroke-linecap: butt}</style>\n </defs>\n <g id=\"figure_1\">\n  <g id=\"patch_1\">\n   <path d=\"M 0 378.364062 \nL 619.495937 378.364062 \nL 619.495937 0 \nL 0 0 \nz\n\" style=\"fill: #ffffff\"/>\n  </g>\n  <g id=\"axes_1\">\n   <g id=\"patch_2\">\n    <path d=\"M 54.295938 339.84 \nL 612.295938 339.84 \nL 612.295938 7.2 \nL 54.295938 7.2 \nz\n\" style=\"fill: #eaeaf2\"/>\n   </g>\n   <g id=\"matplotlib.axis_1\">\n    <g id=\"xtick_1\">\n     <g id=\"line2d_1\">\n      <path d=\"M 79.659574 339.84 \nL 79.659574 7.2 \n\" clip-path=\"url(#pdb2db5adcd)\" style=\"fill: none; stroke: #ffffff; stroke-linecap: round\"/>\n     </g>\n     <g id=\"line2d_2\"/>\n     <g id=\"text_1\">\n      <!-- 0 -->\n      <g style=\"fill: #262626\" transform=\"translate(76.478324 354.438437) scale(0.1 -0.1)\">\n       <defs>\n        <path id=\"DejaVuSerif-30\" d=\"M 2034 219 \nQ 2513 219 2750 744 \nQ 2988 1269 2988 2328 \nQ 2988 3391 2750 3916 \nQ 2513 4441 2034 4441 \nQ 1556 4441 1318 3916 \nQ 1081 3391 1081 2328 \nQ 1081 1269 1318 744 \nQ 1556 219 2034 219 \nz\nM 2034 -91 \nQ 1275 -91 848 546 \nQ 422 1184 422 2328 \nQ 422 3475 848 4112 \nQ 1275 4750 2034 4750 \nQ 2797 4750 3222 4112 \nQ 3647 3475 3647 2328 \nQ 3647 1184 3222 546 \nQ 2797 -91 2034 -91 \nz\n\" transform=\"scale(0.015625)\"/>\n       </defs>\n       <use xlink:href=\"#DejaVuSerif-30\"/>\n      </g>\n     </g>\n    </g>\n    <g id=\"xtick_2\">\n     <g id=\"line2d_3\">\n      <path d=\"M 164.487789 339.84 \nL 164.487789 7.2 \n\" clip-path=\"url(#pdb2db5adcd)\" style=\"fill: none; stroke: #ffffff; stroke-linecap: round\"/>\n     </g>\n     <g id=\"line2d_4\"/>\n     <g id=\"text_2\">\n      <!-- 50 -->\n      <g style=\"fill: #262626\" transform=\"translate(158.125289 354.438437) scale(0.1 -0.1)\">\n       <defs>\n        <path id=\"DejaVuSerif-35\" d=\"M 3219 4666 \nL 3219 4153 \nL 1081 4153 \nL 1081 2816 \nQ 1244 2928 1461 2984 \nQ 1678 3041 1947 3041 \nQ 2703 3041 3140 2622 \nQ 3578 2203 3578 1478 \nQ 3578 738 3136 323 \nQ 2694 -91 1894 -91 \nQ 1572 -91 1234 -12 \nQ 897 66 544 225 \nL 544 1131 \nL 897 1131 \nQ 925 688 1179 453 \nQ 1434 219 1894 219 \nQ 2388 219 2653 544 \nQ 2919 869 2919 1478 \nQ 2919 2084 2655 2407 \nQ 2391 2731 1894 2731 \nQ 1613 2731 1398 2631 \nQ 1184 2531 1019 2322 \nL 750 2322 \nL 750 4666 \nL 3219 4666 \nz\n\" transform=\"scale(0.015625)\"/>\n       </defs>\n       <use xlink:href=\"#DejaVuSerif-35\"/>\n       <use xlink:href=\"#DejaVuSerif-30\" x=\"63.623047\"/>\n      </g>\n     </g>\n    </g>\n    <g id=\"xtick_3\">\n     <g id=\"line2d_5\">\n      <path d=\"M 249.316004 339.84 \nL 249.316004 7.2 \n\" clip-path=\"url(#pdb2db5adcd)\" style=\"fill: none; stroke: #ffffff; stroke-linecap: round\"/>\n     </g>\n     <g id=\"line2d_6\"/>\n     <g id=\"text_3\">\n      <!-- 100 -->\n      <g style=\"fill: #262626\" transform=\"translate(239.772254 354.438437) scale(0.1 -0.1)\">\n       <defs>\n        <path id=\"DejaVuSerif-31\" d=\"M 909 0 \nL 909 331 \nL 1722 331 \nL 1722 4213 \nL 781 3603 \nL 781 4013 \nL 1919 4750 \nL 2350 4750 \nL 2350 331 \nL 3163 331 \nL 3163 0 \nL 909 0 \nz\n\" transform=\"scale(0.015625)\"/>\n       </defs>\n       <use xlink:href=\"#DejaVuSerif-31\"/>\n       <use xlink:href=\"#DejaVuSerif-30\" x=\"63.623047\"/>\n       <use xlink:href=\"#DejaVuSerif-30\" x=\"127.246094\"/>\n      </g>\n     </g>\n    </g>\n    <g id=\"xtick_4\">\n     <g id=\"line2d_7\">\n      <path d=\"M 334.14422 339.84 \nL 334.14422 7.2 \n\" clip-path=\"url(#pdb2db5adcd)\" style=\"fill: none; stroke: #ffffff; stroke-linecap: round\"/>\n     </g>\n     <g id=\"line2d_8\"/>\n     <g id=\"text_4\">\n      <!-- 150 -->\n      <g style=\"fill: #262626\" transform=\"translate(324.60047 354.438437) scale(0.1 -0.1)\">\n       <use xlink:href=\"#DejaVuSerif-31\"/>\n       <use xlink:href=\"#DejaVuSerif-35\" x=\"63.623047\"/>\n       <use xlink:href=\"#DejaVuSerif-30\" x=\"127.246094\"/>\n      </g>\n     </g>\n    </g>\n    <g id=\"xtick_5\">\n     <g id=\"line2d_9\">\n      <path d=\"M 418.972435 339.84 \nL 418.972435 7.2 \n\" clip-path=\"url(#pdb2db5adcd)\" style=\"fill: none; stroke: #ffffff; stroke-linecap: round\"/>\n     </g>\n     <g id=\"line2d_10\"/>\n     <g id=\"text_5\">\n      <!-- 200 -->\n      <g style=\"fill: #262626\" transform=\"translate(409.428685 354.438437) scale(0.1 -0.1)\">\n       <defs>\n        <path id=\"DejaVuSerif-32\" d=\"M 819 3553 \nL 469 3553 \nL 469 4384 \nQ 803 4563 1142 4656 \nQ 1481 4750 1806 4750 \nQ 2534 4750 2956 4397 \nQ 3378 4044 3378 3438 \nQ 3378 2753 2422 1800 \nQ 2347 1728 2309 1691 \nL 1131 513 \nL 3078 513 \nL 3078 1088 \nL 3444 1088 \nL 3444 0 \nL 434 0 \nL 434 341 \nL 1850 1753 \nQ 2319 2222 2519 2614 \nQ 2719 3006 2719 3438 \nQ 2719 3909 2473 4175 \nQ 2228 4441 1797 4441 \nQ 1350 4441 1106 4219 \nQ 863 3997 819 3553 \nz\n\" transform=\"scale(0.015625)\"/>\n       </defs>\n       <use xlink:href=\"#DejaVuSerif-32\"/>\n       <use xlink:href=\"#DejaVuSerif-30\" x=\"63.623047\"/>\n       <use xlink:href=\"#DejaVuSerif-30\" x=\"127.246094\"/>\n      </g>\n     </g>\n    </g>\n    <g id=\"xtick_6\">\n     <g id=\"line2d_11\">\n      <path d=\"M 503.80065 339.84 \nL 503.80065 7.2 \n\" clip-path=\"url(#pdb2db5adcd)\" style=\"fill: none; stroke: #ffffff; stroke-linecap: round\"/>\n     </g>\n     <g id=\"line2d_12\"/>\n     <g id=\"text_6\">\n      <!-- 250 -->\n      <g style=\"fill: #262626\" transform=\"translate(494.2569 354.438437) scale(0.1 -0.1)\">\n       <use xlink:href=\"#DejaVuSerif-32\"/>\n       <use xlink:href=\"#DejaVuSerif-35\" x=\"63.623047\"/>\n       <use xlink:href=\"#DejaVuSerif-30\" x=\"127.246094\"/>\n      </g>\n     </g>\n    </g>\n    <g id=\"xtick_7\">\n     <g id=\"line2d_13\">\n      <path d=\"M 588.628865 339.84 \nL 588.628865 7.2 \n\" clip-path=\"url(#pdb2db5adcd)\" style=\"fill: none; stroke: #ffffff; stroke-linecap: round\"/>\n     </g>\n     <g id=\"line2d_14\"/>\n     <g id=\"text_7\">\n      <!-- 300 -->\n      <g style=\"fill: #262626\" transform=\"translate(579.085115 354.438437) scale(0.1 -0.1)\">\n       <defs>\n        <path id=\"DejaVuSerif-33\" d=\"M 622 4469 \nQ 988 4606 1323 4678 \nQ 1659 4750 1953 4750 \nQ 2638 4750 3022 4454 \nQ 3406 4159 3406 3634 \nQ 3406 3213 3140 2930 \nQ 2875 2647 2388 2547 \nQ 2963 2466 3280 2130 \nQ 3597 1794 3597 1259 \nQ 3597 606 3158 257 \nQ 2719 -91 1894 -91 \nQ 1528 -91 1179 -12 \nQ 831 66 488 225 \nL 488 1131 \nL 838 1131 \nQ 869 681 1141 450 \nQ 1413 219 1906 219 \nQ 2384 219 2661 495 \nQ 2938 772 2938 1253 \nQ 2938 1803 2653 2086 \nQ 2369 2369 1819 2369 \nL 1522 2369 \nL 1522 2688 \nL 1678 2688 \nQ 2225 2688 2498 2914 \nQ 2772 3141 2772 3597 \nQ 2772 4006 2547 4223 \nQ 2322 4441 1900 4441 \nQ 1478 4441 1245 4241 \nQ 1013 4041 972 3647 \nL 622 3647 \nL 622 4469 \nz\n\" transform=\"scale(0.015625)\"/>\n       </defs>\n       <use xlink:href=\"#DejaVuSerif-33\"/>\n       <use xlink:href=\"#DejaVuSerif-30\" x=\"63.623047\"/>\n       <use xlink:href=\"#DejaVuSerif-30\" x=\"127.246094\"/>\n      </g>\n     </g>\n    </g>\n    <g id=\"text_8\">\n     <!-- episodes -->\n     <g style=\"fill: #262626\" transform=\"translate(309.028906 368.876406) scale(0.11 -0.11)\">\n      <defs>\n       <path id=\"DejaVuSerif-65\" d=\"M 3469 1600 \nL 991 1600 \nL 991 1575 \nQ 991 903 1244 561 \nQ 1497 219 1991 219 \nQ 2369 219 2611 417 \nQ 2853 616 2950 1006 \nL 3413 1006 \nQ 3275 459 2904 184 \nQ 2534 -91 1931 -91 \nQ 1203 -91 761 389 \nQ 319 869 319 1663 \nQ 319 2450 753 2931 \nQ 1188 3413 1894 3413 \nQ 2647 3413 3050 2948 \nQ 3453 2484 3469 1600 \nz\nM 2791 1931 \nQ 2772 2513 2545 2808 \nQ 2319 3103 1894 3103 \nQ 1497 3103 1269 2806 \nQ 1041 2509 991 1931 \nL 2791 1931 \nz\n\" transform=\"scale(0.015625)\"/>\n       <path id=\"DejaVuSerif-70\" d=\"M 1313 1825 \nL 1313 1497 \nQ 1313 897 1542 583 \nQ 1772 269 2209 269 \nQ 2650 269 2876 622 \nQ 3103 975 3103 1663 \nQ 3103 2353 2876 2703 \nQ 2650 3053 2209 3053 \nQ 1772 3053 1542 2737 \nQ 1313 2422 1313 1825 \nz\nM 738 2988 \nL 184 2988 \nL 184 3322 \nL 1313 3322 \nL 1313 2803 \nQ 1481 3116 1742 3264 \nQ 2003 3413 2388 3413 \nQ 3000 3413 3387 2928 \nQ 3775 2444 3775 1663 \nQ 3775 881 3387 395 \nQ 3000 -91 2388 -91 \nQ 2003 -91 1742 57 \nQ 1481 206 1313 519 \nL 1313 -997 \nL 1856 -997 \nL 1856 -1331 \nL 184 -1331 \nL 184 -997 \nL 738 -997 \nL 738 2988 \nz\n\" transform=\"scale(0.015625)\"/>\n       <path id=\"DejaVuSerif-69\" d=\"M 622 4353 \nQ 622 4497 726 4603 \nQ 831 4709 978 4709 \nQ 1122 4709 1226 4603 \nQ 1331 4497 1331 4353 \nQ 1331 4206 1228 4103 \nQ 1125 4000 978 4000 \nQ 831 4000 726 4103 \nQ 622 4206 622 4353 \nz\nM 1356 331 \nL 1900 331 \nL 1900 0 \nL 231 0 \nL 231 331 \nL 781 331 \nL 781 2988 \nL 231 2988 \nL 231 3322 \nL 1356 3322 \nL 1356 331 \nz\n\" transform=\"scale(0.015625)\"/>\n       <path id=\"DejaVuSerif-73\" d=\"M 359 184 \nL 359 959 \nL 691 959 \nQ 703 588 923 403 \nQ 1144 219 1575 219 \nQ 1963 219 2166 364 \nQ 2369 509 2369 788 \nQ 2369 1006 2220 1140 \nQ 2072 1275 1594 1428 \nL 1178 1569 \nQ 750 1706 558 1912 \nQ 366 2119 366 2438 \nQ 366 2894 700 3153 \nQ 1034 3413 1625 3413 \nQ 1888 3413 2178 3344 \nQ 2469 3275 2778 3144 \nL 2778 2419 \nL 2447 2419 \nQ 2434 2741 2221 2922 \nQ 2009 3103 1644 3103 \nQ 1281 3103 1095 2975 \nQ 909 2847 909 2591 \nQ 909 2381 1050 2254 \nQ 1191 2128 1613 1997 \nL 2069 1856 \nQ 2541 1709 2748 1489 \nQ 2956 1269 2956 922 \nQ 2956 450 2595 179 \nQ 2234 -91 1600 -91 \nQ 1278 -91 972 -22 \nQ 666 47 359 184 \nz\n\" transform=\"scale(0.015625)\"/>\n       <path id=\"DejaVuSerif-6f\" d=\"M 1925 219 \nQ 2388 219 2623 584 \nQ 2859 950 2859 1663 \nQ 2859 2375 2623 2739 \nQ 2388 3103 1925 3103 \nQ 1463 3103 1227 2739 \nQ 991 2375 991 1663 \nQ 991 950 1228 584 \nQ 1466 219 1925 219 \nz\nM 1925 -91 \nQ 1200 -91 759 389 \nQ 319 869 319 1663 \nQ 319 2456 758 2934 \nQ 1197 3413 1925 3413 \nQ 2653 3413 3092 2934 \nQ 3531 2456 3531 1663 \nQ 3531 869 3092 389 \nQ 2653 -91 1925 -91 \nz\n\" transform=\"scale(0.015625)\"/>\n       <path id=\"DejaVuSerif-64\" d=\"M 3359 331 \nL 3909 331 \nL 3909 0 \nL 2784 0 \nL 2784 519 \nQ 2616 206 2355 57 \nQ 2094 -91 1709 -91 \nQ 1097 -91 708 395 \nQ 319 881 319 1663 \nQ 319 2444 706 2928 \nQ 1094 3413 1709 3413 \nQ 2094 3413 2355 3264 \nQ 2616 3116 2784 2803 \nL 2784 4531 \nL 2241 4531 \nL 2241 4863 \nL 3359 4863 \nL 3359 331 \nz\nM 2784 1497 \nL 2784 1825 \nQ 2784 2422 2554 2737 \nQ 2325 3053 1888 3053 \nQ 1444 3053 1217 2703 \nQ 991 2353 991 1663 \nQ 991 975 1217 622 \nQ 1444 269 1888 269 \nQ 2325 269 2554 583 \nQ 2784 897 2784 1497 \nz\n\" transform=\"scale(0.015625)\"/>\n      </defs>\n      <use xlink:href=\"#DejaVuSerif-65\"/>\n      <use xlink:href=\"#DejaVuSerif-70\" x=\"59.179688\"/>\n      <use xlink:href=\"#DejaVuSerif-69\" x=\"123.193359\"/>\n      <use xlink:href=\"#DejaVuSerif-73\" x=\"155.175781\"/>\n      <use xlink:href=\"#DejaVuSerif-6f\" x=\"206.494141\"/>\n      <use xlink:href=\"#DejaVuSerif-64\" x=\"266.699219\"/>\n      <use xlink:href=\"#DejaVuSerif-65\" x=\"330.712891\"/>\n      <use xlink:href=\"#DejaVuSerif-73\" x=\"389.892578\"/>\n     </g>\n    </g>\n   </g>\n   <g id=\"matplotlib.axis_2\">\n    <g id=\"ytick_1\">\n     <g id=\"line2d_15\">\n      <path d=\"M 54.295938 314.365157 \nL 612.295938 314.365157 \n\" clip-path=\"url(#pdb2db5adcd)\" style=\"fill: none; stroke: #ffffff; stroke-linecap: round\"/>\n     </g>\n     <g id=\"line2d_16\"/>\n     <g id=\"text_9\">\n      <!-- 0 -->\n      <g style=\"fill: #262626\" transform=\"translate(40.933438 318.164375) scale(0.1 -0.1)\">\n       <use xlink:href=\"#DejaVuSerif-30\"/>\n      </g>\n     </g>\n    </g>\n    <g id=\"ytick_2\">\n     <g id=\"line2d_17\">\n      <path d=\"M 54.295938 272.248767 \nL 612.295938 272.248767 \n\" clip-path=\"url(#pdb2db5adcd)\" style=\"fill: none; stroke: #ffffff; stroke-linecap: round\"/>\n     </g>\n     <g id=\"line2d_18\"/>\n     <g id=\"text_10\">\n      <!-- 250 -->\n      <g style=\"fill: #262626\" transform=\"translate(28.208438 276.047985) scale(0.1 -0.1)\">\n       <use xlink:href=\"#DejaVuSerif-32\"/>\n       <use xlink:href=\"#DejaVuSerif-35\" x=\"63.623047\"/>\n       <use xlink:href=\"#DejaVuSerif-30\" x=\"127.246094\"/>\n      </g>\n     </g>\n    </g>\n    <g id=\"ytick_3\">\n     <g id=\"line2d_19\">\n      <path d=\"M 54.295938 230.132376 \nL 612.295938 230.132376 \n\" clip-path=\"url(#pdb2db5adcd)\" style=\"fill: none; stroke: #ffffff; stroke-linecap: round\"/>\n     </g>\n     <g id=\"line2d_20\"/>\n     <g id=\"text_11\">\n      <!-- 500 -->\n      <g style=\"fill: #262626\" transform=\"translate(28.208438 233.931595) scale(0.1 -0.1)\">\n       <use xlink:href=\"#DejaVuSerif-35\"/>\n       <use xlink:href=\"#DejaVuSerif-30\" x=\"63.623047\"/>\n       <use xlink:href=\"#DejaVuSerif-30\" x=\"127.246094\"/>\n      </g>\n     </g>\n    </g>\n    <g id=\"ytick_4\">\n     <g id=\"line2d_21\">\n      <path d=\"M 54.295938 188.015986 \nL 612.295938 188.015986 \n\" clip-path=\"url(#pdb2db5adcd)\" style=\"fill: none; stroke: #ffffff; stroke-linecap: round\"/>\n     </g>\n     <g id=\"line2d_22\"/>\n     <g id=\"text_12\">\n      <!-- 750 -->\n      <g style=\"fill: #262626\" transform=\"translate(28.208438 191.815205) scale(0.1 -0.1)\">\n       <defs>\n        <path id=\"DejaVuSerif-37\" d=\"M 3609 4347 \nL 1784 0 \nL 1319 0 \nL 3059 4153 \nL 903 4153 \nL 903 3578 \nL 538 3578 \nL 538 4666 \nL 3609 4666 \nL 3609 4347 \nz\n\" transform=\"scale(0.015625)\"/>\n       </defs>\n       <use xlink:href=\"#DejaVuSerif-37\"/>\n       <use xlink:href=\"#DejaVuSerif-35\" x=\"63.623047\"/>\n       <use xlink:href=\"#DejaVuSerif-30\" x=\"127.246094\"/>\n      </g>\n     </g>\n    </g>\n    <g id=\"ytick_5\">\n     <g id=\"line2d_23\">\n      <path d=\"M 54.295938 145.899596 \nL 612.295938 145.899596 \n\" clip-path=\"url(#pdb2db5adcd)\" style=\"fill: none; stroke: #ffffff; stroke-linecap: round\"/>\n     </g>\n     <g id=\"line2d_24\"/>\n     <g id=\"text_13\">\n      <!-- 1000 -->\n      <g style=\"fill: #262626\" transform=\"translate(21.845938 149.698815) scale(0.1 -0.1)\">\n       <use xlink:href=\"#DejaVuSerif-31\"/>\n       <use xlink:href=\"#DejaVuSerif-30\" x=\"63.623047\"/>\n       <use xlink:href=\"#DejaVuSerif-30\" x=\"127.246094\"/>\n       <use xlink:href=\"#DejaVuSerif-30\" x=\"190.869141\"/>\n      </g>\n     </g>\n    </g>\n    <g id=\"ytick_6\">\n     <g id=\"line2d_25\">\n      <path d=\"M 54.295938 103.783206 \nL 612.295938 103.783206 \n\" clip-path=\"url(#pdb2db5adcd)\" style=\"fill: none; stroke: #ffffff; stroke-linecap: round\"/>\n     </g>\n     <g id=\"line2d_26\"/>\n     <g id=\"text_14\">\n      <!-- 1250 -->\n      <g style=\"fill: #262626\" transform=\"translate(21.845938 107.582425) scale(0.1 -0.1)\">\n       <use xlink:href=\"#DejaVuSerif-31\"/>\n       <use xlink:href=\"#DejaVuSerif-32\" x=\"63.623047\"/>\n       <use xlink:href=\"#DejaVuSerif-35\" x=\"127.246094\"/>\n       <use xlink:href=\"#DejaVuSerif-30\" x=\"190.869141\"/>\n      </g>\n     </g>\n    </g>\n    <g id=\"ytick_7\">\n     <g id=\"line2d_27\">\n      <path d=\"M 54.295938 61.666816 \nL 612.295938 61.666816 \n\" clip-path=\"url(#pdb2db5adcd)\" style=\"fill: none; stroke: #ffffff; stroke-linecap: round\"/>\n     </g>\n     <g id=\"line2d_28\"/>\n     <g id=\"text_15\">\n      <!-- 1500 -->\n      <g style=\"fill: #262626\" transform=\"translate(21.845938 65.466035) scale(0.1 -0.1)\">\n       <use xlink:href=\"#DejaVuSerif-31\"/>\n       <use xlink:href=\"#DejaVuSerif-35\" x=\"63.623047\"/>\n       <use xlink:href=\"#DejaVuSerif-30\" x=\"127.246094\"/>\n       <use xlink:href=\"#DejaVuSerif-30\" x=\"190.869141\"/>\n      </g>\n     </g>\n    </g>\n    <g id=\"ytick_8\">\n     <g id=\"line2d_29\">\n      <path d=\"M 54.295938 19.550426 \nL 612.295938 19.550426 \n\" clip-path=\"url(#pdb2db5adcd)\" style=\"fill: none; stroke: #ffffff; stroke-linecap: round\"/>\n     </g>\n     <g id=\"line2d_30\"/>\n     <g id=\"text_16\">\n      <!-- 1750 -->\n      <g style=\"fill: #262626\" transform=\"translate(21.845938 23.349645) scale(0.1 -0.1)\">\n       <use xlink:href=\"#DejaVuSerif-31\"/>\n       <use xlink:href=\"#DejaVuSerif-37\" x=\"63.623047\"/>\n       <use xlink:href=\"#DejaVuSerif-35\" x=\"127.246094\"/>\n       <use xlink:href=\"#DejaVuSerif-30\" x=\"190.869141\"/>\n      </g>\n     </g>\n    </g>\n    <g id=\"text_17\">\n     <!-- total reward -->\n     <g style=\"fill: #262626\" transform=\"translate(15.558281 208.059141) rotate(-90) scale(0.11 -0.11)\">\n      <defs>\n       <path id=\"DejaVuSerif-74\" d=\"M 691 2988 \nL 184 2988 \nL 184 3322 \nL 691 3322 \nL 691 4353 \nL 1269 4353 \nL 1269 3322 \nL 2350 3322 \nL 2350 2988 \nL 1269 2988 \nL 1269 878 \nQ 1269 456 1350 337 \nQ 1431 219 1650 219 \nQ 1875 219 1978 351 \nQ 2081 484 2088 781 \nL 2522 781 \nQ 2497 328 2275 118 \nQ 2053 -91 1600 -91 \nQ 1103 -91 897 129 \nQ 691 350 691 878 \nL 691 2988 \nz\n\" transform=\"scale(0.015625)\"/>\n       <path id=\"DejaVuSerif-61\" d=\"M 2547 1044 \nL 2547 1747 \nL 1806 1747 \nQ 1378 1747 1168 1562 \nQ 959 1378 959 997 \nQ 959 650 1171 447 \nQ 1384 244 1747 244 \nQ 2106 244 2326 466 \nQ 2547 688 2547 1044 \nz\nM 3122 2075 \nL 3122 331 \nL 3634 331 \nL 3634 0 \nL 2547 0 \nL 2547 359 \nQ 2356 128 2106 18 \nQ 1856 -91 1522 -91 \nQ 969 -91 644 203 \nQ 319 497 319 997 \nQ 319 1513 691 1797 \nQ 1063 2081 1741 2081 \nL 2547 2081 \nL 2547 2309 \nQ 2547 2688 2317 2895 \nQ 2088 3103 1672 3103 \nQ 1328 3103 1125 2947 \nQ 922 2791 872 2484 \nL 575 2484 \nL 575 3156 \nQ 875 3284 1158 3348 \nQ 1441 3413 1709 3413 \nQ 2400 3413 2761 3070 \nQ 3122 2728 3122 2075 \nz\n\" transform=\"scale(0.015625)\"/>\n       <path id=\"DejaVuSerif-6c\" d=\"M 1313 331 \nL 1856 331 \nL 1856 0 \nL 184 0 \nL 184 331 \nL 738 331 \nL 738 4531 \nL 184 4531 \nL 184 4863 \nL 1313 4863 \nL 1313 331 \nz\n\" transform=\"scale(0.015625)\"/>\n       <path id=\"DejaVuSerif-20\" transform=\"scale(0.015625)\"/>\n       <path id=\"DejaVuSerif-72\" d=\"M 3059 3328 \nL 3059 2497 \nL 2728 2497 \nQ 2713 2744 2591 2866 \nQ 2469 2988 2234 2988 \nQ 1809 2988 1582 2694 \nQ 1356 2400 1356 1850 \nL 1356 331 \nL 2022 331 \nL 2022 0 \nL 263 0 \nL 263 331 \nL 781 331 \nL 781 2994 \nL 231 2994 \nL 231 3322 \nL 1356 3322 \nL 1356 2731 \nQ 1525 3078 1790 3245 \nQ 2056 3413 2438 3413 \nQ 2578 3413 2733 3391 \nQ 2888 3369 3059 3328 \nz\n\" transform=\"scale(0.015625)\"/>\n       <path id=\"DejaVuSerif-77\" d=\"M 3072 3322 \nL 3922 728 \nL 4672 2988 \nL 4191 2988 \nL 4191 3322 \nL 5394 3322 \nL 5394 2988 \nL 5025 2988 \nL 4038 0 \nL 3559 0 \nL 2741 2484 \nL 1919 0 \nL 1459 0 \nL 475 2988 \nL 103 2988 \nL 103 3322 \nL 1606 3322 \nL 1606 2988 \nL 1069 2988 \nL 1813 728 \nL 2669 3322 \nL 3072 3322 \nz\n\" transform=\"scale(0.015625)\"/>\n      </defs>\n      <use xlink:href=\"#DejaVuSerif-74\"/>\n      <use xlink:href=\"#DejaVuSerif-6f\" x=\"40.185547\"/>\n      <use xlink:href=\"#DejaVuSerif-74\" x=\"100.390625\"/>\n      <use xlink:href=\"#DejaVuSerif-61\" x=\"140.576172\"/>\n      <use xlink:href=\"#DejaVuSerif-6c\" x=\"200.195312\"/>\n      <use xlink:href=\"#DejaVuSerif-20\" x=\"232.177734\"/>\n      <use xlink:href=\"#DejaVuSerif-72\" x=\"263.964844\"/>\n      <use xlink:href=\"#DejaVuSerif-65\" x=\"311.767578\"/>\n      <use xlink:href=\"#DejaVuSerif-77\" x=\"370.947266\"/>\n      <use xlink:href=\"#DejaVuSerif-61\" x=\"456.542969\"/>\n      <use xlink:href=\"#DejaVuSerif-72\" x=\"516.162109\"/>\n      <use xlink:href=\"#DejaVuSerif-64\" x=\"563.964844\"/>\n     </g>\n    </g>\n   </g>\n   <g id=\"line2d_31\">\n    <path d=\"M 79.659574 314.291032 \nL 89.83896 313.691294 \nL 91.535524 296.770613 \nL 96.625217 296.534762 \nL 101.71491 245.772719 \nL 103.411474 245.685117 \nL 105.108038 245.429049 \nL 106.804603 245.348186 \nL 108.501167 228.427505 \nL 120.377117 227.807552 \nL 122.073681 227.450405 \nL 125.46681 193.784247 \nL 127.163374 193.4271 \nL 128.859939 192.308489 \nL 132.253067 192.268057 \nL 133.949632 209.087659 \nL 135.646196 192.241103 \nL 137.34276 192.220887 \nL 139.039325 175.387808 \nL 140.735889 192.234364 \nL 142.432453 192.234364 \nL 144.129017 209.053966 \nL 145.825582 209.067443 \nL 147.522146 208.238592 \nL 149.21871 208.231854 \nL 150.915275 225.07841 \nL 152.611839 208.231854 \nL 154.308403 207.295185 \nL 156.004968 207.32214 \nL 157.701532 190.475584 \nL 162.791225 190.495799 \nL 164.487789 174.00639 \nL 166.184353 190.799037 \nL 167.880918 190.799037 \nL 169.577482 174.309628 \nL 171.274046 175.421501 \nL 176.363739 125.077253 \nL 179.756868 125.083992 \nL 181.453432 140.993879 \nL 186.543125 141.020834 \nL 188.239689 124.174278 \nL 189.936254 125.185071 \nL 193.329382 91.505436 \nL 195.025947 108.06897 \nL 196.722511 108.621537 \nL 198.419075 108.621537 \nL 200.11564 124.336005 \nL 203.508768 124.349482 \nL 205.205332 121.734896 \nL 206.901897 137.557182 \nL 208.598461 120.764535 \nL 215.384718 120.771273 \nL 220.474411 171.142476 \nL 222.170976 169.693672 \nL 223.86754 170.616863 \nL 225.564104 153.770307 \nL 227.260668 170.616863 \nL 228.957233 153.770307 \nL 230.653797 170.461875 \nL 232.350361 153.615319 \nL 235.74349 153.615319 \nL 237.440054 153.844432 \nL 239.136619 137.395455 \nL 240.833183 137.395455 \nL 242.529747 133.305111 \nL 245.922876 99.611999 \nL 247.61944 102.240062 \nL 249.316004 103.237378 \nL 254.405697 153.31882 \nL 256.102262 136.472264 \nL 257.798826 153.190786 \nL 261.191955 153.190786 \nL 262.888519 136.485741 \nL 264.585083 121.101466 \nL 266.281647 104.268387 \nL 267.978212 104.268387 \nL 269.674776 87.421831 \nL 271.37134 87.421831 \nL 273.067905 87.549865 \nL 278.157598 137.752602 \nL 279.854162 120.959955 \nL 281.550726 120.959955 \nL 283.24729 120.744319 \nL 284.943855 109.120195 \nL 288.336983 142.206831 \nL 291.730112 142.227047 \nL 293.426676 142.429206 \nL 295.123241 138.938599 \nL 296.819805 122.307679 \nL 298.516369 122.307679 \nL 300.212934 121.654033 \nL 301.909498 104.834431 \nL 303.606062 104.780522 \nL 305.302626 121.202545 \nL 306.999191 121.202545 \nL 308.695755 137.483057 \nL 310.392319 152.04522 \nL 313.785448 152.04522 \nL 315.482012 151.45896 \nL 317.178577 134.666313 \nL 318.875141 134.639358 \nL 320.571705 118.075824 \nL 323.964834 118.075824 \nL 325.661398 101.458382 \nL 327.357962 101.458382 \nL 330.751091 102.031164 \nL 332.447655 85.184608 \nL 334.14422 84.423144 \nL 335.840784 84.463576 \nL 337.537348 71.107626 \nL 340.930477 103.66865 \nL 342.627041 103.796684 \nL 346.02017 103.823638 \nL 347.716734 103.924717 \nL 349.413298 120.744319 \nL 351.109863 120.474774 \nL 352.806427 105.912611 \nL 354.502991 122.671565 \nL 356.199556 137.388716 \nL 357.89612 138.001931 \nL 359.592684 138.001931 \nL 361.289249 121.182329 \nL 366.378941 121.182329 \nL 369.77207 153.568149 \nL 373.165199 119.90873 \nL 374.861763 119.90873 \nL 378.254892 86.983821 \nL 379.951456 86.983821 \nL 381.64802 87.482479 \nL 383.344585 85.737175 \nL 385.041149 69.544266 \nL 388.434277 69.57122 \nL 390.130842 69.881197 \nL 391.827406 69.894674 \nL 393.52397 70.642661 \nL 395.220535 70.642661 \nL 396.917099 53.883707 \nL 398.613663 39.166556 \nL 400.310228 22.32 \nL 402.006792 22.32 \nL 408.793049 89.571452 \nL 410.489613 89.389509 \nL 412.186178 73.237031 \nL 413.882742 73.237031 \nL 422.365564 154.289181 \nL 424.062128 154.302659 \nL 425.758692 139.794404 \nL 432.544949 139.774189 \nL 434.241514 122.94111 \nL 435.938078 123.001757 \nL 442.724335 189.76129 \nL 444.420899 205.90029 \nL 447.814028 205.893552 \nL 449.510592 189.134598 \nL 451.207157 188.53486 \nL 452.903721 189.316541 \nL 456.29685 222.430131 \nL 457.993414 222.510995 \nL 459.689978 220.711782 \nL 464.779671 171.46593 \nL 466.476235 171.492884 \nL 471.565928 221.426076 \nL 474.959057 220.597226 \nL 476.655621 237.416827 \nL 478.352186 220.597226 \nL 480.04875 220.570271 \nL 481.745314 221.109361 \nL 485.138443 221.190225 \nL 486.835007 221.89778 \nL 488.531571 221.911257 \nL 490.228136 220.38159 \nL 491.9247 236.742965 \nL 495.317829 235.853467 \nL 497.014393 235.941069 \nL 498.710957 236.304955 \nL 500.407522 220.199647 \nL 502.104086 206.217006 \nL 507.193779 206.217006 \nL 508.890343 189.37045 \nL 510.586907 189.424358 \nL 515.6766 139.861791 \nL 517.373165 139.08011 \nL 519.069729 122.260509 \nL 520.766293 122.260509 \nL 522.462858 105.440907 \nL 524.159422 105.299396 \nL 525.855986 88.45284 \nL 527.55255 88.062 \nL 530.945679 88.035046 \nL 532.642243 72.718157 \nL 534.338808 56.356782 \nL 536.035372 55.918771 \nL 537.731936 54.982103 \nL 539.428501 55.009057 \nL 541.125065 38.250103 \nL 547.911322 38.250103 \nL 551.304451 71.909522 \nL 553.001015 55.062966 \nL 558.090708 55.062966 \nL 559.787272 56.141146 \nL 561.483837 72.125158 \nL 563.180401 72.125158 \nL 564.876965 88.109171 \nL 566.573529 71.404126 \nL 568.270094 71.404126 \nL 569.966658 69.631868 \nL 571.663222 69.631868 \nL 573.359787 52.812266 \nL 576.752915 86.289743 \nL 578.44948 87.266843 \nL 580.146044 88.641522 \nL 581.842608 88.203511 \nL 583.539173 105.023113 \nL 586.932301 105.023113 \nL 586.932301 105.023113 \n\" clip-path=\"url(#pdb2db5adcd)\" style=\"fill: none; stroke: #4c72b0; stroke-width: 1.75; stroke-linecap: round\"/>\n   </g>\n   <g id=\"line2d_32\">\n    <path d=\"M 79.659574 324.72 \nL 84.749267 311.280826 \nL 89.83896 298.385064 \nL 94.928653 286.022729 \nL 100.018346 274.183841 \nL 105.108038 262.858417 \nL 110.197731 252.036474 \nL 115.287424 241.70803 \nL 120.377117 231.863104 \nL 125.46681 222.491711 \nL 130.556503 213.583872 \nL 135.646196 205.129601 \nL 140.735889 197.118919 \nL 145.825582 189.541842 \nL 150.915275 182.388388 \nL 156.004968 175.648574 \nL 161.094661 169.312419 \nL 166.184353 163.36994 \nL 171.274046 157.811154 \nL 176.363739 152.62608 \nL 181.453432 147.804734 \nL 186.543125 143.337136 \nL 191.632818 139.213302 \nL 196.722511 135.423249 \nL 201.812204 131.956997 \nL 206.901897 128.804562 \nL 211.99159 125.955962 \nL 217.081283 123.401215 \nL 222.170976 121.130339 \nL 227.260668 119.13335 \nL 232.350361 117.400267 \nL 237.440054 115.921108 \nL 242.529747 114.68589 \nL 247.61944 113.684631 \nL 252.709133 112.907348 \nL 257.798826 112.34406 \nL 262.888519 111.984783 \nL 267.978212 111.819536 \nL 273.067905 111.838337 \nL 278.157598 112.031202 \nL 284.943855 112.54187 \nL 291.730112 113.320578 \nL 298.516369 114.343665 \nL 305.302626 115.58747 \nL 312.088884 117.028329 \nL 320.571705 119.070465 \nL 329.054527 121.337314 \nL 339.233913 124.289083 \nL 352.806427 128.486585 \nL 385.041149 138.611677 \nL 395.220535 141.549681 \nL 403.703356 143.801235 \nL 412.186178 145.8246 \nL 418.972435 147.24794 \nL 425.758692 148.472 \nL 432.544949 149.473118 \nL 439.331207 150.227633 \nL 446.117464 150.711883 \nL 451.207157 150.883474 \nL 456.29685 150.87975 \nL 461.386543 150.690726 \nL 466.476235 150.306422 \nL 471.565928 149.716854 \nL 476.655621 148.912041 \nL 481.745314 147.882 \nL 486.835007 146.616748 \nL 491.9247 145.106304 \nL 497.014393 143.340685 \nL 502.104086 141.309909 \nL 507.193779 139.003994 \nL 512.283472 136.412956 \nL 517.373165 133.526815 \nL 522.462858 130.335586 \nL 527.55255 126.82929 \nL 532.642243 122.997941 \nL 537.731936 118.83156 \nL 542.821629 114.320163 \nL 547.911322 109.453767 \nL 553.001015 104.222392 \nL 558.090708 98.616053 \nL 563.180401 92.624769 \nL 568.270094 86.238558 \nL 573.359787 79.447438 \nL 578.44948 72.241425 \nL 583.539173 64.610538 \nL 586.932301 59.282309 \nL 586.932301 59.282309 \n\" clip-path=\"url(#pdb2db5adcd)\" style=\"fill: none; stroke-dasharray: 6.475,2.8; stroke-dashoffset: 0; stroke: #ff0000; stroke-width: 1.75\"/>\n   </g>\n   <g id=\"patch_3\">\n    <path d=\"M 54.295938 339.84 \nL 54.295938 7.2 \n\" style=\"fill: none\"/>\n   </g>\n   <g id=\"patch_4\">\n    <path d=\"M 612.295938 339.84 \nL 612.295938 7.2 \n\" style=\"fill: none\"/>\n   </g>\n   <g id=\"patch_5\">\n    <path d=\"M 54.295938 339.84 \nL 612.295938 339.84 \n\" style=\"fill: none\"/>\n   </g>\n   <g id=\"patch_6\">\n    <path d=\"M 54.295938 7.2 \nL 612.295938 7.2 \n\" style=\"fill: none\"/>\n   </g>\n   <g id=\"legend_1\">\n    <g id=\"line2d_33\">\n     <path d=\"M 63.295938 20.298437 \nL 73.295938 20.298437 \nL 83.295938 20.298437 \n\" style=\"fill: none; stroke: #4c72b0; stroke-width: 1.75; stroke-linecap: round\"/>\n    </g>\n    <g id=\"text_18\">\n     <!-- moving average -->\n     <g style=\"fill: #262626\" transform=\"translate(91.295938 23.798437) scale(0.1 -0.1)\">\n      <defs>\n       <path id=\"DejaVuSerif-6d\" d=\"M 3316 2675 \nQ 3481 3041 3739 3227 \nQ 3997 3413 4341 3413 \nQ 4863 3413 5119 3089 \nQ 5375 2766 5375 2113 \nL 5375 331 \nL 5894 331 \nL 5894 0 \nL 4300 0 \nL 4300 331 \nL 4800 331 \nL 4800 2047 \nQ 4800 2556 4650 2772 \nQ 4500 2988 4153 2988 \nQ 3769 2988 3567 2697 \nQ 3366 2406 3366 1850 \nL 3366 331 \nL 3866 331 \nL 3866 0 \nL 2291 0 \nL 2291 331 \nL 2791 331 \nL 2791 2069 \nQ 2791 2566 2641 2777 \nQ 2491 2988 2144 2988 \nQ 1759 2988 1557 2697 \nQ 1356 2406 1356 1850 \nL 1356 331 \nL 1856 331 \nL 1856 0 \nL 263 0 \nL 263 331 \nL 781 331 \nL 781 2994 \nL 231 2994 \nL 231 3322 \nL 1356 3322 \nL 1356 2731 \nQ 1516 3063 1762 3238 \nQ 2009 3413 2322 3413 \nQ 2709 3413 2968 3220 \nQ 3228 3028 3316 2675 \nz\n\" transform=\"scale(0.015625)\"/>\n       <path id=\"DejaVuSerif-76\" d=\"M 1581 0 \nL 359 2988 \nL -19 2988 \nL -19 3322 \nL 1509 3322 \nL 1509 2988 \nL 978 2988 \nL 1913 703 \nL 2847 2988 \nL 2350 2988 \nL 2350 3322 \nL 3597 3322 \nL 3597 2988 \nL 3225 2988 \nL 2003 0 \nL 1581 0 \nz\n\" transform=\"scale(0.015625)\"/>\n       <path id=\"DejaVuSerif-6e\" d=\"M 263 0 \nL 263 331 \nL 781 331 \nL 781 2988 \nL 231 2988 \nL 231 3322 \nL 1356 3322 \nL 1356 2731 \nQ 1516 3069 1770 3241 \nQ 2025 3413 2363 3413 \nQ 2913 3413 3172 3097 \nQ 3431 2781 3431 2113 \nL 3431 331 \nL 3944 331 \nL 3944 0 \nL 2356 0 \nL 2356 331 \nL 2853 331 \nL 2853 1931 \nQ 2853 2541 2703 2767 \nQ 2553 2994 2175 2994 \nQ 1775 2994 1565 2701 \nQ 1356 2409 1356 1850 \nL 1356 331 \nL 1856 331 \nL 1856 0 \nL 263 0 \nz\n\" transform=\"scale(0.015625)\"/>\n       <path id=\"DejaVuSerif-67\" d=\"M 3359 2988 \nL 3359 72 \nQ 3359 -644 2965 -1033 \nQ 2572 -1422 1844 -1422 \nQ 1516 -1422 1216 -1362 \nQ 916 -1303 641 -1184 \nL 641 -488 \nL 941 -488 \nQ 997 -813 1206 -963 \nQ 1416 -1113 1806 -1113 \nQ 2313 -1113 2548 -827 \nQ 2784 -541 2784 72 \nL 2784 519 \nQ 2616 206 2355 57 \nQ 2094 -91 1709 -91 \nQ 1097 -91 708 395 \nQ 319 881 319 1663 \nQ 319 2444 706 2928 \nQ 1094 3413 1709 3413 \nQ 2094 3413 2355 3264 \nQ 2616 3116 2784 2803 \nL 2784 3322 \nL 3909 3322 \nL 3909 2988 \nL 3359 2988 \nz\nM 2784 1825 \nQ 2784 2422 2554 2737 \nQ 2325 3053 1888 3053 \nQ 1444 3053 1217 2703 \nQ 991 2353 991 1663 \nQ 991 975 1217 622 \nQ 1444 269 1888 269 \nQ 2325 269 2554 583 \nQ 2784 897 2784 1497 \nL 2784 1825 \nz\n\" transform=\"scale(0.015625)\"/>\n      </defs>\n      <use xlink:href=\"#DejaVuSerif-6d\"/>\n      <use xlink:href=\"#DejaVuSerif-6f\" x=\"94.824219\"/>\n      <use xlink:href=\"#DejaVuSerif-76\" x=\"155.029297\"/>\n      <use xlink:href=\"#DejaVuSerif-69\" x=\"211.523438\"/>\n      <use xlink:href=\"#DejaVuSerif-6e\" x=\"243.505859\"/>\n      <use xlink:href=\"#DejaVuSerif-67\" x=\"307.910156\"/>\n      <use xlink:href=\"#DejaVuSerif-20\" x=\"371.923828\"/>\n      <use xlink:href=\"#DejaVuSerif-61\" x=\"403.710938\"/>\n      <use xlink:href=\"#DejaVuSerif-76\" x=\"463.330078\"/>\n      <use xlink:href=\"#DejaVuSerif-65\" x=\"519.824219\"/>\n      <use xlink:href=\"#DejaVuSerif-72\" x=\"579.003906\"/>\n      <use xlink:href=\"#DejaVuSerif-61\" x=\"626.806641\"/>\n      <use xlink:href=\"#DejaVuSerif-67\" x=\"686.425781\"/>\n      <use xlink:href=\"#DejaVuSerif-65\" x=\"750.439453\"/>\n     </g>\n    </g>\n    <g id=\"line2d_34\">\n     <path d=\"M 63.295938 35.11875 \nL 73.295938 35.11875 \nL 83.295938 35.11875 \n\" style=\"fill: none; stroke-dasharray: 6.475,2.8; stroke-dashoffset: 0; stroke: #ff0000; stroke-width: 1.75\"/>\n    </g>\n    <g id=\"text_19\">\n     <!-- regression -->\n     <g style=\"fill: #262626\" transform=\"translate(91.295938 38.61875) scale(0.1 -0.1)\">\n      <use xlink:href=\"#DejaVuSerif-72\"/>\n      <use xlink:href=\"#DejaVuSerif-65\" x=\"47.802734\"/>\n      <use xlink:href=\"#DejaVuSerif-67\" x=\"106.982422\"/>\n      <use xlink:href=\"#DejaVuSerif-72\" x=\"170.996094\"/>\n      <use xlink:href=\"#DejaVuSerif-65\" x=\"218.798828\"/>\n      <use xlink:href=\"#DejaVuSerif-73\" x=\"277.978516\"/>\n      <use xlink:href=\"#DejaVuSerif-73\" x=\"329.296875\"/>\n      <use xlink:href=\"#DejaVuSerif-69\" x=\"380.615234\"/>\n      <use xlink:href=\"#DejaVuSerif-6f\" x=\"412.597656\"/>\n      <use xlink:href=\"#DejaVuSerif-6e\" x=\"472.802734\"/>\n     </g>\n    </g>\n   </g>\n  </g>\n </g>\n <defs>\n  <clipPath id=\"pdb2db5adcd\">\n   <rect x=\"54.295938\" y=\"7.2\" width=\"558\" height=\"332.64\"/>\n  </clipPath>\n </defs>\n</svg>\n",
            "text/plain": [
              "<Figure size 1000x600 with 1 Axes>"
            ]
          },
          "metadata": {},
          "output_type": "display_data"
        }
      ],
      "source": [
        "plt.figure(figsize=(10, 6))\n",
        "x = range(len(agent.averages))\n",
        "y = np.polyval(np.polyfit(x, agent.averages, deg=3), x)\n",
        "plt.plot(agent.averages, label='moving average')\n",
        "plt.plot(x, y, 'r--', label='regression')\n",
        "plt.xlabel('episodes')\n",
        "plt.ylabel('total reward')\n",
        "plt.legend();"
      ]
    },
    {
      "cell_type": "markdown",
      "metadata": {
        "id": "LgWvqwT1Yptp"
      },
      "source": [
        "# Improve Finance environement"
      ]
    },
    {
      "cell_type": "code",
      "execution_count": null,
      "metadata": {
        "colab": {
          "background_save": true
        },
        "id": "Z5OLLbkHYoiy"
      },
      "outputs": [],
      "source": [
        "class observation_space:\n",
        "    def __init__(self, n):\n",
        "        self.shape = (n,)\n",
        "class action_space:\n",
        "    def __init__(self, n):\n",
        "        self.n = n\n",
        "    def seed(self, seed):\n",
        "        pass\n",
        "    def sample(self):\n",
        "        return random.randint(0, self.n - 1)"
      ]
    },
    {
      "cell_type": "code",
      "execution_count": null,
      "metadata": {
        "colab": {
          "background_save": true
        },
        "id": "dbAqHBeyTNYa"
      },
      "outputs": [],
      "source": [
        "class Finance:\n",
        "\n",
        "    def __init__(self, symbol, features, window, lags,\n",
        "                 leverage=1, min_performance=0.85,\n",
        "                 start=0, end=None, mu=None, std=None):\n",
        "        self.symbol = symbol\n",
        "        self.features = features\n",
        "        self.n_features = len(features)\n",
        "        self.window = window\n",
        "        self.lags = lags\n",
        "        self.leverage = leverage\n",
        "        self.min_performance = min_performance\n",
        "        self.start = start\n",
        "        self.end = end\n",
        "        self.mu = mu\n",
        "        self.std = std\n",
        "        self.observation_space = observation_space(self.lags)\n",
        "        self.action_space = action_space(2)\n",
        "        self._get_data()\n",
        "        self._prepare_data()\n",
        "    def _get_data(self):\n",
        "        self.raw = pd.read_csv(self.url, index_col=0,\n",
        "                               parse_dates=True).dropna()\n",
        "    def _prepare_data(self):\n",
        "        self.data = pd.DataFrame(self.raw[self.symbol])\n",
        "        self.data = self.data.iloc[self.start:]\n",
        "        self.data['r'] = np.log(self.data / self.data.shift(1))\n",
        "        self.data.dropna(inplace=True)\n",
        "        self.data['s'] = self.data[self.symbol].rolling(\n",
        "                                              self.window).mean()\n",
        "        self.data['m'] = self.data['r'].rolling(self.window).mean()\n",
        "        self.data['v'] = self.data['r'].rolling(self.window).std()\n",
        "        self.data.dropna(inplace=True)\n",
        "        if self.mu is None:\n",
        "            self.mu = self.data.mean()\n",
        "            self.std = self.data.std()\n",
        "        self.data_ = (self.data - self.mu) / self.std\n",
        "        self.data_['d'] = np.where(self.data['r'] > 0, 1, 0)\n",
        "        self.data_['d'] = self.data_['d'].astype(int)\n",
        "        if self.end is not None:\n",
        "            self.data = self.data.iloc[:self.end - self.start]\n",
        "            self.data_ = self.data_.iloc[:self.end - self.start]\n",
        "    def _get_state(self):\n",
        "        return self.data_[self.features].iloc[self.bar -\n",
        "                                self.lags:self.bar]\n",
        "    def seed(self, seed):\n",
        "        random.seed(seed)\n",
        "        np.random.seed(seed)\n",
        "    def reset(self):\n",
        "        self.treward = 0\n",
        "        self.accuracy = 0\n",
        "        self.performance = 1\n",
        "        self.bar = self.lags\n",
        "        state = self.data_[self.features].iloc[self.bar-\n",
        "                        self.lags:self.bar]\n",
        "        return state.values\n",
        "    def step(self, action):\n",
        "        correct = action == self.data_['d'].iloc[self.bar]\n",
        "        ret = self.data['r'].iloc[self.bar] * self.leverage\n",
        "        reward_1 = 1 if correct else 0\n",
        "        reward_2 = abs(ret) if correct else -abs(ret)\n",
        "        self.treward += reward_1\n",
        "        self.bar += 1\n",
        "        self.accuracy = self.treward / (self.bar - self.lags)\n",
        "        self.performance *= math.exp(reward_2)\n",
        "        if self.bar >= len(self.data):\n",
        "            done = True\n",
        "        elif reward_1 == 1:\n",
        "            done = False\n",
        "        elif (self.performance < self.min_performance and\n",
        "              self.bar > self.lags + 15):\n",
        "            done = True\n",
        "        else:\n",
        "            done = False\n",
        "        state = self._get_state()\n",
        "        info = {}\n",
        "        return state.values, reward_1 + reward_2 * 252, done, info\n"
      ]
    },
    {
      "cell_type": "code",
      "execution_count": null,
      "metadata": {
        "colab": {
          "background_save": true
        },
        "id": "DXCcKjlRY0E-",
        "outputId": "3df539c8-4e76-4870-a16e-8490c5e2a641"
      },
      "outputs": [
        {
          "data": {
            "text/plain": [
              "1"
            ]
          },
          "execution_count": 26,
          "metadata": {},
          "output_type": "execute_result"
        }
      ],
      "source": [
        "env = Finance('EUR=', ['EUR=', 'r', 'v'], window=10, lags=5)\n",
        "a = env.action_space.sample()\n",
        "a"
      ]
    },
    {
      "cell_type": "code",
      "execution_count": null,
      "metadata": {
        "colab": {
          "background_save": true
        },
        "id": "drfb2RQWY0Hx",
        "outputId": "40b308b9-90b7-49e5-c6ae-4395ab840aef"
      },
      "outputs": [
        {
          "data": {
            "text/plain": [
              "array([[ 1.7721, -1.0214,  0.0351],\n",
              "       [ 1.5973, -2.4432,  0.6954],\n",
              "       [ 1.5876, -0.1208,  0.6   ],\n",
              "       [ 1.6292,  0.6083,  0.6123],\n",
              "       [ 1.6408,  0.1807,  0.3693]])"
            ]
          },
          "execution_count": 27,
          "metadata": {},
          "output_type": "execute_result"
        }
      ],
      "source": [
        "env.reset()"
      ]
    },
    {
      "cell_type": "code",
      "execution_count": null,
      "metadata": {
        "colab": {
          "background_save": true
        },
        "id": "0mvBDIg2Y0KZ",
        "outputId": "2580a771-2254-4eac-b244-2202abc0b649"
      },
      "outputs": [
        {
          "data": {
            "text/plain": [
              "(array([[ 1.5973, -2.4432,  0.6954],\n",
              "        [ 1.5876, -0.1208,  0.6   ],\n",
              "        [ 1.6292,  0.6083,  0.6123],\n",
              "        [ 1.6408,  0.1807,  0.3693],\n",
              "        [ 1.5725, -0.9502,  0.0035]]),\n",
              " -1.3750521308536245,\n",
              " False,\n",
              " {})"
            ]
          },
          "execution_count": 28,
          "metadata": {},
          "output_type": "execute_result"
        }
      ],
      "source": [
        "env.step(a)"
      ]
    },
    {
      "cell_type": "markdown",
      "metadata": {
        "id": "F0LE0ZCMY6qA"
      },
      "source": [
        "#Improved Financical QL Agent"
      ]
    },
    {
      "cell_type": "code",
      "execution_count": null,
      "metadata": {
        "colab": {
          "background_save": true
        },
        "id": "J7SYV6gcY0NA"
      },
      "outputs": [],
      "source": [
        "class FQLAgent:\n",
        "    def __init__(self, hidden_units, learning_rate, learn_env, valid_env, dropout=True):\n",
        "        self.learn_env = learn_env\n",
        "        self.valid_env = valid_env\n",
        "        self.dropout = dropout\n",
        "        self.epsilon = 1.0\n",
        "        self.epsilon_min = 0.1\n",
        "        self.epsilon_decay = 0.98\n",
        "        self.learning_rate = learning_rate\n",
        "        self.gamma = 0.95\n",
        "        self.batch_size = 128\n",
        "        self.max_treward = 0\n",
        "        self.trewards = list()\n",
        "        self.averages = list()\n",
        "        self.performances = list()\n",
        "        self.aperformances = list()\n",
        "        self.vperformances = list()\n",
        "        self.memory = deque(maxlen=2000)\n",
        "        self.model = self._build_model(hidden_units, learning_rate)\n",
        "\n",
        "    def _build_model(self, hu, lr):\n",
        "        model = Sequential()\n",
        "        model.add(Dense(hu, input_shape=(\n",
        "            self.learn_env.lags, self.learn_env.n_features),\n",
        "                        activation='relu'))\n",
        "        if self.dropout:\n",
        "            model.add(Dropout(0.3, seed=100))\n",
        "        model.add(Dense(hu, activation='relu'))\n",
        "        if self.dropout:\n",
        "            model.add(Dropout(0.3, seed=100))\n",
        "        model.add(Dense(2, activation='linear'))\n",
        "        model.compile(\n",
        "            loss='mse',\n",
        "            optimizer=keras.optimizers.RMSprop(learning_rate=lr)\n",
        "        )\n",
        "        return model\n",
        "\n",
        "    def act(self, state):\n",
        "        if random.random() <= self.epsilon:\n",
        "            return self.learn_env.action_space.sample()\n",
        "        action = self.model.predict(state)[0, 0]\n",
        "        return np.argmax(action)\n",
        "\n",
        "    def replay(self):\n",
        "        batch = random.sample(self.memory, self.batch_size)\n",
        "        for state, action, reward, next_state, done in batch:\n",
        "            if not done:\n",
        "                reward += self.gamma * np.amax(\n",
        "                    self.model.predict(next_state)[0, 0])\n",
        "            target = self.model.predict(state)\n",
        "            target[0, 0, action] = reward\n",
        "            self.model.fit(state, target, epochs=1,\n",
        "                           verbose=False)\n",
        "        if self.epsilon > self.epsilon_min:\n",
        "            self.epsilon *= self.epsilon_decay\n",
        "\n",
        "    def learn(self, episodes):\n",
        "        for e in range(1, episodes + 1):\n",
        "            state = self.learn_env.reset()\n",
        "            state = np.reshape(state, [1, self.learn_env.lags,\n",
        "                                       self.learn_env.n_features])\n",
        "            for _ in range(10000):\n",
        "                action = self.act(state)\n",
        "                next_state, reward, done, info = \\\n",
        "                                self.learn_env.step(action)\n",
        "                next_state = np.reshape(next_state,\n",
        "                                [1, self.learn_env.lags,\n",
        "                                 self.learn_env.n_features])\n",
        "                self.memory.append([state, action, reward,\n",
        "                                     next_state, done])\n",
        "                state = next_state\n",
        "                if done:\n",
        "                    treward = _ + 1\n",
        "                    self.trewards.append(treward)\n",
        "                    av = sum(self.trewards[-25:]) / 25\n",
        "                    perf = self.learn_env.performance\n",
        "                    self.averages.append(av)\n",
        "                    self.performances.append(perf)\n",
        "                    self.aperformances.append(\n",
        "                        sum(self.performances[-25:]) / 25)\n",
        "                    self.max_treward = max(self.max_treward, treward)\n",
        "                    templ = 'episode: {:2d}/{} | treward: {:4d} | '\n",
        "                    templ += 'perf: {:5.3f} | av: {:5.1f} | max: {:4d}'\n",
        "                    print(templ.format(e, episodes, treward, perf,\n",
        "                                  av, self.max_treward), end='\\r')\n",
        "                    break\n",
        "            self.validate(e, episodes)\n",
        "            if len(self.memory) > self.batch_size:\n",
        "                self.replay()\n",
        "        print()\n",
        "    def validate(self, e, episodes):\n",
        "        state = self.valid_env.reset()\n",
        "        state = np.reshape(state, [1, self.valid_env.lags,\n",
        "                                   self.valid_env.n_features])\n",
        "        for _ in range(10000):\n",
        "            action = np.argmax(self.model.predict(state)[0, 0])\n",
        "            next_state, reward, done, info = self.valid_env.step(action)\n",
        "            state = np.reshape(next_state, [1, self.valid_env.lags,\n",
        "                                   self.valid_env.n_features])\n",
        "            if done:\n",
        "                treward = _ + 1\n",
        "                perf = self.valid_env.performance\n",
        "                self.vperformances.append(perf)\n",
        "                if e % 20 == 0:\n",
        "                    templ = 71 * '='\n",
        "                    templ += '\\nepisode: {:2d}/{} | VALIDATION | '\n",
        "                    templ += 'treward: {:4d} | perf: {:5.3f} | '\n",
        "                    templ += 'eps: {:.2f}\\n'\n",
        "                    templ += 71 * '='\n",
        "                    print(templ.format(e, episodes, treward,\n",
        "                                       perf, self.epsilon))\n",
        "                break"
      ]
    },
    {
      "cell_type": "code",
      "execution_count": null,
      "metadata": {
        "colab": {
          "background_save": true
        },
        "id": "gGr3NwK1Y0Pu"
      },
      "outputs": [],
      "source": [
        "symbol = 'EUR='\n",
        "features = ['r', 's', 'm', 'v']\n",
        "a = 0\n",
        "b = 2000\n",
        "c = 500"
      ]
    },
    {
      "cell_type": "code",
      "execution_count": null,
      "metadata": {
        "colab": {
          "background_save": true
        },
        "id": "c8V0OrYCY0Sf",
        "outputId": "61e153e8-034d-4a29-c8dd-ef0c18260892"
      },
      "outputs": [
        {
          "name": "stdout",
          "output_type": "stream",
          "text": [
            "<class 'pandas.core.frame.DataFrame'>\n",
            "DatetimeIndex: 2000 entries, 2010-01-19 to 2017-12-26\n",
            "Data columns (total 5 columns):\n",
            " #   Column  Non-Null Count  Dtype  \n",
            "---  ------  --------------  -----  \n",
            " 0   EUR=    2000 non-null   float64\n",
            " 1   r       2000 non-null   float64\n",
            " 2   s       2000 non-null   float64\n",
            " 3   m       2000 non-null   float64\n",
            " 4   v       2000 non-null   float64\n",
            "dtypes: float64(5)\n",
            "memory usage: 93.8 KB\n"
          ]
        }
      ],
      "source": [
        "learn_env = Finance(symbol, features, window=10, lags=6,\n",
        "                 leverage=1, min_performance=0.85,\n",
        "                 start=a, end=a + b, mu=None, std=None)\n",
        "learn_env.data.info()"
      ]
    },
    {
      "cell_type": "code",
      "execution_count": null,
      "metadata": {
        "colab": {
          "background_save": true
        },
        "id": "-sIj0Q7WY0W-",
        "outputId": "da67f43b-f3f4-444e-fc3d-f26c91739ca9"
      },
      "outputs": [
        {
          "name": "stdout",
          "output_type": "stream",
          "text": [
            "<class 'pandas.core.frame.DataFrame'>\n",
            "DatetimeIndex: 500 entries, 2017-12-27 to 2019-12-20\n",
            "Data columns (total 5 columns):\n",
            " #   Column  Non-Null Count  Dtype  \n",
            "---  ------  --------------  -----  \n",
            " 0   EUR=    500 non-null    float64\n",
            " 1   r       500 non-null    float64\n",
            " 2   s       500 non-null    float64\n",
            " 3   m       500 non-null    float64\n",
            " 4   v       500 non-null    float64\n",
            "dtypes: float64(5)\n",
            "memory usage: 23.4 KB\n"
          ]
        }
      ],
      "source": [
        "valid_env = Finance(symbol, features, window=learn_env.window,\n",
        "                 lags=learn_env.lags, leverage=learn_env.leverage,\n",
        "                 min_performance=learn_env.min_performance,\n",
        "                 start=a + b, end=a + b + c,\n",
        "                 mu=learn_env.mu, std=learn_env.std)\n",
        "valid_env.data.info()"
      ]
    },
    {
      "cell_type": "code",
      "execution_count": null,
      "metadata": {
        "colab": {
          "background_save": true
        },
        "id": "hT2RqyYkY0aC"
      },
      "outputs": [],
      "source": [
        "set_seeds(100)\n",
        "agent = FQLAgent(48, 0.0001, learn_env, valid_env, True)\n",
        "episodes = 61"
      ]
    },
    {
      "cell_type": "code",
      "execution_count": null,
      "metadata": {
        "colab": {
          "background_save": true
        },
        "id": "G2-pL_eSY0cu",
        "outputId": "1f03f1f6-4119-46a4-d38f-c1ab1712f984"
      },
      "outputs": [
        {
          "name": "stdout",
          "output_type": "stream",
          "text": [
            "=======================================================================\n",
            "episode: 20/61 | VALIDATION | treward:  494 | perf: 1.064 | eps: 0.68\n",
            "=======================================================================\n",
            "=======================================================================\n",
            "episode: 40/61 | VALIDATION | treward:  494 | perf: 1.089 | eps: 0.45\n",
            "=======================================================================\n",
            "=======================================================================\n",
            "episode: 60/61 | VALIDATION | treward:  494 | perf: 1.089 | eps: 0.30\n",
            "=======================================================================\n",
            "\n",
            "CPU times: user 6min 34s, sys: 22.5 s, total: 6min 57s\n",
            "Wall time: 5min 42s\n"
          ]
        }
      ],
      "source": [
        "%time agent.learn(episodes)\n"
      ]
    },
    {
      "cell_type": "code",
      "execution_count": null,
      "metadata": {
        "colab": {
          "background_save": true
        },
        "id": "WZ3v6lKPY0f2",
        "outputId": "b090c585-a5a5-4b34-a581-016ac51e96cb"
      },
      "outputs": [
        {
          "data": {
            "text/plain": [
              "0.291602079838278"
            ]
          },
          "execution_count": 36,
          "metadata": {},
          "output_type": "execute_result"
        }
      ],
      "source": [
        "agent.epsilon"
      ]
    },
    {
      "cell_type": "code",
      "execution_count": null,
      "metadata": {
        "colab": {
          "background_save": true
        },
        "id": "EGAEAJFlZRf8",
        "outputId": "31c784a7-da94-4ee8-b2af-b9aa93ca5d17"
      },
      "outputs": [
        {
          "data": {
            "image/svg+xml": "<?xml version=\"1.0\" encoding=\"utf-8\" standalone=\"no\"?>\n<!DOCTYPE svg PUBLIC \"-//W3C//DTD SVG 1.1//EN\"\n  \"http://www.w3.org/Graphics/SVG/1.1/DTD/svg11.dtd\">\n<svg xmlns:xlink=\"http://www.w3.org/1999/xlink\" width=\"619.495937pt\" height=\"378.364063pt\" viewBox=\"0 0 619.495937 378.364063\" xmlns=\"http://www.w3.org/2000/svg\" version=\"1.1\">\n <metadata>\n  <rdf:RDF xmlns:dc=\"http://purl.org/dc/elements/1.1/\" xmlns:cc=\"http://creativecommons.org/ns#\" xmlns:rdf=\"http://www.w3.org/1999/02/22-rdf-syntax-ns#\">\n   <cc:Work>\n    <dc:type rdf:resource=\"http://purl.org/dc/dcmitype/StillImage\"/>\n    <dc:date>2023-12-10T22:58:30.811393</dc:date>\n    <dc:format>image/svg+xml</dc:format>\n    <dc:creator>\n     <cc:Agent>\n      <dc:title>Matplotlib v3.7.1, https://matplotlib.org/</dc:title>\n     </cc:Agent>\n    </dc:creator>\n   </cc:Work>\n  </rdf:RDF>\n </metadata>\n <defs>\n  <style type=\"text/css\">*{stroke-linejoin: round; stroke-linecap: butt}</style>\n </defs>\n <g id=\"figure_1\">\n  <g id=\"patch_1\">\n   <path d=\"M 0 378.364063 \nL 619.495937 378.364063 \nL 619.495937 0 \nL 0 0 \nz\n\" style=\"fill: #ffffff\"/>\n  </g>\n  <g id=\"axes_1\">\n   <g id=\"patch_2\">\n    <path d=\"M 54.295938 339.84 \nL 612.295938 339.84 \nL 612.295938 7.2 \nL 54.295938 7.2 \nz\n\" style=\"fill: #eaeaf2\"/>\n   </g>\n   <g id=\"matplotlib.axis_1\">\n    <g id=\"xtick_1\">\n     <g id=\"line2d_1\">\n      <path d=\"M 79.659574 339.84 \nL 79.659574 7.2 \n\" clip-path=\"url(#p7a78da49c7)\" style=\"fill: none; stroke: #ffffff; stroke-linecap: round\"/>\n     </g>\n     <g id=\"line2d_2\"/>\n     <g id=\"text_1\">\n      <!-- 0 -->\n      <g style=\"fill: #262626\" transform=\"translate(76.478324 354.438438) scale(0.1 -0.1)\">\n       <defs>\n        <path id=\"DejaVuSerif-30\" d=\"M 2034 219 \nQ 2513 219 2750 744 \nQ 2988 1269 2988 2328 \nQ 2988 3391 2750 3916 \nQ 2513 4441 2034 4441 \nQ 1556 4441 1318 3916 \nQ 1081 3391 1081 2328 \nQ 1081 1269 1318 744 \nQ 1556 219 2034 219 \nz\nM 2034 -91 \nQ 1275 -91 848 546 \nQ 422 1184 422 2328 \nQ 422 3475 848 4112 \nQ 1275 4750 2034 4750 \nQ 2797 4750 3222 4112 \nQ 3647 3475 3647 2328 \nQ 3647 1184 3222 546 \nQ 2797 -91 2034 -91 \nz\n\" transform=\"scale(0.015625)\"/>\n       </defs>\n       <use xlink:href=\"#DejaVuSerif-30\"/>\n      </g>\n     </g>\n    </g>\n    <g id=\"xtick_2\">\n     <g id=\"line2d_3\">\n      <path d=\"M 162.819037 339.84 \nL 162.819037 7.2 \n\" clip-path=\"url(#p7a78da49c7)\" style=\"fill: none; stroke: #ffffff; stroke-linecap: round\"/>\n     </g>\n     <g id=\"line2d_4\"/>\n     <g id=\"text_2\">\n      <!-- 10 -->\n      <g style=\"fill: #262626\" transform=\"translate(156.456537 354.438438) scale(0.1 -0.1)\">\n       <defs>\n        <path id=\"DejaVuSerif-31\" d=\"M 909 0 \nL 909 331 \nL 1722 331 \nL 1722 4213 \nL 781 3603 \nL 781 4013 \nL 1919 4750 \nL 2350 4750 \nL 2350 331 \nL 3163 331 \nL 3163 0 \nL 909 0 \nz\n\" transform=\"scale(0.015625)\"/>\n       </defs>\n       <use xlink:href=\"#DejaVuSerif-31\"/>\n       <use xlink:href=\"#DejaVuSerif-30\" x=\"63.623047\"/>\n      </g>\n     </g>\n    </g>\n    <g id=\"xtick_3\">\n     <g id=\"line2d_5\">\n      <path d=\"M 245.978501 339.84 \nL 245.978501 7.2 \n\" clip-path=\"url(#p7a78da49c7)\" style=\"fill: none; stroke: #ffffff; stroke-linecap: round\"/>\n     </g>\n     <g id=\"line2d_6\"/>\n     <g id=\"text_3\">\n      <!-- 20 -->\n      <g style=\"fill: #262626\" transform=\"translate(239.616001 354.438438) scale(0.1 -0.1)\">\n       <defs>\n        <path id=\"DejaVuSerif-32\" d=\"M 819 3553 \nL 469 3553 \nL 469 4384 \nQ 803 4563 1142 4656 \nQ 1481 4750 1806 4750 \nQ 2534 4750 2956 4397 \nQ 3378 4044 3378 3438 \nQ 3378 2753 2422 1800 \nQ 2347 1728 2309 1691 \nL 1131 513 \nL 3078 513 \nL 3078 1088 \nL 3444 1088 \nL 3444 0 \nL 434 0 \nL 434 341 \nL 1850 1753 \nQ 2319 2222 2519 2614 \nQ 2719 3006 2719 3438 \nQ 2719 3909 2473 4175 \nQ 2228 4441 1797 4441 \nQ 1350 4441 1106 4219 \nQ 863 3997 819 3553 \nz\n\" transform=\"scale(0.015625)\"/>\n       </defs>\n       <use xlink:href=\"#DejaVuSerif-32\"/>\n       <use xlink:href=\"#DejaVuSerif-30\" x=\"63.623047\"/>\n      </g>\n     </g>\n    </g>\n    <g id=\"xtick_4\">\n     <g id=\"line2d_7\">\n      <path d=\"M 329.137964 339.84 \nL 329.137964 7.2 \n\" clip-path=\"url(#p7a78da49c7)\" style=\"fill: none; stroke: #ffffff; stroke-linecap: round\"/>\n     </g>\n     <g id=\"line2d_8\"/>\n     <g id=\"text_4\">\n      <!-- 30 -->\n      <g style=\"fill: #262626\" transform=\"translate(322.775464 354.438438) scale(0.1 -0.1)\">\n       <defs>\n        <path id=\"DejaVuSerif-33\" d=\"M 622 4469 \nQ 988 4606 1323 4678 \nQ 1659 4750 1953 4750 \nQ 2638 4750 3022 4454 \nQ 3406 4159 3406 3634 \nQ 3406 3213 3140 2930 \nQ 2875 2647 2388 2547 \nQ 2963 2466 3280 2130 \nQ 3597 1794 3597 1259 \nQ 3597 606 3158 257 \nQ 2719 -91 1894 -91 \nQ 1528 -91 1179 -12 \nQ 831 66 488 225 \nL 488 1131 \nL 838 1131 \nQ 869 681 1141 450 \nQ 1413 219 1906 219 \nQ 2384 219 2661 495 \nQ 2938 772 2938 1253 \nQ 2938 1803 2653 2086 \nQ 2369 2369 1819 2369 \nL 1522 2369 \nL 1522 2688 \nL 1678 2688 \nQ 2225 2688 2498 2914 \nQ 2772 3141 2772 3597 \nQ 2772 4006 2547 4223 \nQ 2322 4441 1900 4441 \nQ 1478 4441 1245 4241 \nQ 1013 4041 972 3647 \nL 622 3647 \nL 622 4469 \nz\n\" transform=\"scale(0.015625)\"/>\n       </defs>\n       <use xlink:href=\"#DejaVuSerif-33\"/>\n       <use xlink:href=\"#DejaVuSerif-30\" x=\"63.623047\"/>\n      </g>\n     </g>\n    </g>\n    <g id=\"xtick_5\">\n     <g id=\"line2d_9\">\n      <path d=\"M 412.297428 339.84 \nL 412.297428 7.2 \n\" clip-path=\"url(#p7a78da49c7)\" style=\"fill: none; stroke: #ffffff; stroke-linecap: round\"/>\n     </g>\n     <g id=\"line2d_10\"/>\n     <g id=\"text_5\">\n      <!-- 40 -->\n      <g style=\"fill: #262626\" transform=\"translate(405.934928 354.438438) scale(0.1 -0.1)\">\n       <defs>\n        <path id=\"DejaVuSerif-34\" d=\"M 2234 1581 \nL 2234 4063 \nL 641 1581 \nL 2234 1581 \nz\nM 3609 0 \nL 1484 0 \nL 1484 331 \nL 2234 331 \nL 2234 1247 \nL 197 1247 \nL 197 1588 \nL 2241 4750 \nL 2859 4750 \nL 2859 1581 \nL 3750 1581 \nL 3750 1247 \nL 2859 1247 \nL 2859 331 \nL 3609 331 \nL 3609 0 \nz\n\" transform=\"scale(0.015625)\"/>\n       </defs>\n       <use xlink:href=\"#DejaVuSerif-34\"/>\n       <use xlink:href=\"#DejaVuSerif-30\" x=\"63.623047\"/>\n      </g>\n     </g>\n    </g>\n    <g id=\"xtick_6\">\n     <g id=\"line2d_11\">\n      <path d=\"M 495.456891 339.84 \nL 495.456891 7.2 \n\" clip-path=\"url(#p7a78da49c7)\" style=\"fill: none; stroke: #ffffff; stroke-linecap: round\"/>\n     </g>\n     <g id=\"line2d_12\"/>\n     <g id=\"text_6\">\n      <!-- 50 -->\n      <g style=\"fill: #262626\" transform=\"translate(489.094391 354.438438) scale(0.1 -0.1)\">\n       <defs>\n        <path id=\"DejaVuSerif-35\" d=\"M 3219 4666 \nL 3219 4153 \nL 1081 4153 \nL 1081 2816 \nQ 1244 2928 1461 2984 \nQ 1678 3041 1947 3041 \nQ 2703 3041 3140 2622 \nQ 3578 2203 3578 1478 \nQ 3578 738 3136 323 \nQ 2694 -91 1894 -91 \nQ 1572 -91 1234 -12 \nQ 897 66 544 225 \nL 544 1131 \nL 897 1131 \nQ 925 688 1179 453 \nQ 1434 219 1894 219 \nQ 2388 219 2653 544 \nQ 2919 869 2919 1478 \nQ 2919 2084 2655 2407 \nQ 2391 2731 1894 2731 \nQ 1613 2731 1398 2631 \nQ 1184 2531 1019 2322 \nL 750 2322 \nL 750 4666 \nL 3219 4666 \nz\n\" transform=\"scale(0.015625)\"/>\n       </defs>\n       <use xlink:href=\"#DejaVuSerif-35\"/>\n       <use xlink:href=\"#DejaVuSerif-30\" x=\"63.623047\"/>\n      </g>\n     </g>\n    </g>\n    <g id=\"xtick_7\">\n     <g id=\"line2d_13\">\n      <path d=\"M 578.616355 339.84 \nL 578.616355 7.2 \n\" clip-path=\"url(#p7a78da49c7)\" style=\"fill: none; stroke: #ffffff; stroke-linecap: round\"/>\n     </g>\n     <g id=\"line2d_14\"/>\n     <g id=\"text_7\">\n      <!-- 60 -->\n      <g style=\"fill: #262626\" transform=\"translate(572.253855 354.438438) scale(0.1 -0.1)\">\n       <defs>\n        <path id=\"DejaVuSerif-36\" d=\"M 2094 219 \nQ 2534 219 2771 542 \nQ 3009 866 3009 1472 \nQ 3009 2078 2771 2401 \nQ 2534 2725 2094 2725 \nQ 1647 2725 1412 2412 \nQ 1178 2100 1178 1509 \nQ 1178 888 1415 553 \nQ 1653 219 2094 219 \nz\nM 1075 2569 \nQ 1288 2803 1556 2918 \nQ 1825 3034 2163 3034 \nQ 2859 3034 3264 2615 \nQ 3669 2197 3669 1472 \nQ 3669 763 3233 336 \nQ 2797 -91 2069 -91 \nQ 1278 -91 853 498 \nQ 428 1088 428 2181 \nQ 428 3406 931 4078 \nQ 1434 4750 2350 4750 \nQ 2597 4750 2869 4703 \nQ 3141 4656 3425 4563 \nL 3425 3794 \nL 3072 3794 \nQ 3034 4109 2831 4275 \nQ 2628 4441 2284 4441 \nQ 1678 4441 1381 3981 \nQ 1084 3522 1075 2569 \nz\n\" transform=\"scale(0.015625)\"/>\n       </defs>\n       <use xlink:href=\"#DejaVuSerif-36\"/>\n       <use xlink:href=\"#DejaVuSerif-30\" x=\"63.623047\"/>\n      </g>\n     </g>\n    </g>\n    <g id=\"text_8\">\n     <!-- episodes -->\n     <g style=\"fill: #262626\" transform=\"translate(309.028906 368.876406) scale(0.11 -0.11)\">\n      <defs>\n       <path id=\"DejaVuSerif-65\" d=\"M 3469 1600 \nL 991 1600 \nL 991 1575 \nQ 991 903 1244 561 \nQ 1497 219 1991 219 \nQ 2369 219 2611 417 \nQ 2853 616 2950 1006 \nL 3413 1006 \nQ 3275 459 2904 184 \nQ 2534 -91 1931 -91 \nQ 1203 -91 761 389 \nQ 319 869 319 1663 \nQ 319 2450 753 2931 \nQ 1188 3413 1894 3413 \nQ 2647 3413 3050 2948 \nQ 3453 2484 3469 1600 \nz\nM 2791 1931 \nQ 2772 2513 2545 2808 \nQ 2319 3103 1894 3103 \nQ 1497 3103 1269 2806 \nQ 1041 2509 991 1931 \nL 2791 1931 \nz\n\" transform=\"scale(0.015625)\"/>\n       <path id=\"DejaVuSerif-70\" d=\"M 1313 1825 \nL 1313 1497 \nQ 1313 897 1542 583 \nQ 1772 269 2209 269 \nQ 2650 269 2876 622 \nQ 3103 975 3103 1663 \nQ 3103 2353 2876 2703 \nQ 2650 3053 2209 3053 \nQ 1772 3053 1542 2737 \nQ 1313 2422 1313 1825 \nz\nM 738 2988 \nL 184 2988 \nL 184 3322 \nL 1313 3322 \nL 1313 2803 \nQ 1481 3116 1742 3264 \nQ 2003 3413 2388 3413 \nQ 3000 3413 3387 2928 \nQ 3775 2444 3775 1663 \nQ 3775 881 3387 395 \nQ 3000 -91 2388 -91 \nQ 2003 -91 1742 57 \nQ 1481 206 1313 519 \nL 1313 -997 \nL 1856 -997 \nL 1856 -1331 \nL 184 -1331 \nL 184 -997 \nL 738 -997 \nL 738 2988 \nz\n\" transform=\"scale(0.015625)\"/>\n       <path id=\"DejaVuSerif-69\" d=\"M 622 4353 \nQ 622 4497 726 4603 \nQ 831 4709 978 4709 \nQ 1122 4709 1226 4603 \nQ 1331 4497 1331 4353 \nQ 1331 4206 1228 4103 \nQ 1125 4000 978 4000 \nQ 831 4000 726 4103 \nQ 622 4206 622 4353 \nz\nM 1356 331 \nL 1900 331 \nL 1900 0 \nL 231 0 \nL 231 331 \nL 781 331 \nL 781 2988 \nL 231 2988 \nL 231 3322 \nL 1356 3322 \nL 1356 331 \nz\n\" transform=\"scale(0.015625)\"/>\n       <path id=\"DejaVuSerif-73\" d=\"M 359 184 \nL 359 959 \nL 691 959 \nQ 703 588 923 403 \nQ 1144 219 1575 219 \nQ 1963 219 2166 364 \nQ 2369 509 2369 788 \nQ 2369 1006 2220 1140 \nQ 2072 1275 1594 1428 \nL 1178 1569 \nQ 750 1706 558 1912 \nQ 366 2119 366 2438 \nQ 366 2894 700 3153 \nQ 1034 3413 1625 3413 \nQ 1888 3413 2178 3344 \nQ 2469 3275 2778 3144 \nL 2778 2419 \nL 2447 2419 \nQ 2434 2741 2221 2922 \nQ 2009 3103 1644 3103 \nQ 1281 3103 1095 2975 \nQ 909 2847 909 2591 \nQ 909 2381 1050 2254 \nQ 1191 2128 1613 1997 \nL 2069 1856 \nQ 2541 1709 2748 1489 \nQ 2956 1269 2956 922 \nQ 2956 450 2595 179 \nQ 2234 -91 1600 -91 \nQ 1278 -91 972 -22 \nQ 666 47 359 184 \nz\n\" transform=\"scale(0.015625)\"/>\n       <path id=\"DejaVuSerif-6f\" d=\"M 1925 219 \nQ 2388 219 2623 584 \nQ 2859 950 2859 1663 \nQ 2859 2375 2623 2739 \nQ 2388 3103 1925 3103 \nQ 1463 3103 1227 2739 \nQ 991 2375 991 1663 \nQ 991 950 1228 584 \nQ 1466 219 1925 219 \nz\nM 1925 -91 \nQ 1200 -91 759 389 \nQ 319 869 319 1663 \nQ 319 2456 758 2934 \nQ 1197 3413 1925 3413 \nQ 2653 3413 3092 2934 \nQ 3531 2456 3531 1663 \nQ 3531 869 3092 389 \nQ 2653 -91 1925 -91 \nz\n\" transform=\"scale(0.015625)\"/>\n       <path id=\"DejaVuSerif-64\" d=\"M 3359 331 \nL 3909 331 \nL 3909 0 \nL 2784 0 \nL 2784 519 \nQ 2616 206 2355 57 \nQ 2094 -91 1709 -91 \nQ 1097 -91 708 395 \nQ 319 881 319 1663 \nQ 319 2444 706 2928 \nQ 1094 3413 1709 3413 \nQ 2094 3413 2355 3264 \nQ 2616 3116 2784 2803 \nL 2784 4531 \nL 2241 4531 \nL 2241 4863 \nL 3359 4863 \nL 3359 331 \nz\nM 2784 1497 \nL 2784 1825 \nQ 2784 2422 2554 2737 \nQ 2325 3053 1888 3053 \nQ 1444 3053 1217 2703 \nQ 991 2353 991 1663 \nQ 991 975 1217 622 \nQ 1444 269 1888 269 \nQ 2325 269 2554 583 \nQ 2784 897 2784 1497 \nz\n\" transform=\"scale(0.015625)\"/>\n      </defs>\n      <use xlink:href=\"#DejaVuSerif-65\"/>\n      <use xlink:href=\"#DejaVuSerif-70\" x=\"59.179688\"/>\n      <use xlink:href=\"#DejaVuSerif-69\" x=\"123.193359\"/>\n      <use xlink:href=\"#DejaVuSerif-73\" x=\"155.175781\"/>\n      <use xlink:href=\"#DejaVuSerif-6f\" x=\"206.494141\"/>\n      <use xlink:href=\"#DejaVuSerif-64\" x=\"266.699219\"/>\n      <use xlink:href=\"#DejaVuSerif-65\" x=\"330.712891\"/>\n      <use xlink:href=\"#DejaVuSerif-73\" x=\"389.892578\"/>\n     </g>\n    </g>\n   </g>\n   <g id=\"matplotlib.axis_2\">\n    <g id=\"ytick_1\">\n     <g id=\"line2d_15\">\n      <path d=\"M 54.295938 299.437227 \nL 612.295938 299.437227 \n\" clip-path=\"url(#p7a78da49c7)\" style=\"fill: none; stroke: #ffffff; stroke-linecap: round\"/>\n     </g>\n     <g id=\"line2d_16\"/>\n     <g id=\"text_9\">\n      <!-- 0 -->\n      <g style=\"fill: #262626\" transform=\"translate(40.933438 303.236446) scale(0.1 -0.1)\">\n       <use xlink:href=\"#DejaVuSerif-30\"/>\n      </g>\n     </g>\n    </g>\n    <g id=\"ytick_2\">\n     <g id=\"line2d_17\">\n      <path d=\"M 54.295938 258.297496 \nL 612.295938 258.297496 \n\" clip-path=\"url(#p7a78da49c7)\" style=\"fill: none; stroke: #ffffff; stroke-linecap: round\"/>\n     </g>\n     <g id=\"line2d_18\"/>\n     <g id=\"text_10\">\n      <!-- 250 -->\n      <g style=\"fill: #262626\" transform=\"translate(28.208438 262.096715) scale(0.1 -0.1)\">\n       <use xlink:href=\"#DejaVuSerif-32\"/>\n       <use xlink:href=\"#DejaVuSerif-35\" x=\"63.623047\"/>\n       <use xlink:href=\"#DejaVuSerif-30\" x=\"127.246094\"/>\n      </g>\n     </g>\n    </g>\n    <g id=\"ytick_3\">\n     <g id=\"line2d_19\">\n      <path d=\"M 54.295938 217.157765 \nL 612.295938 217.157765 \n\" clip-path=\"url(#p7a78da49c7)\" style=\"fill: none; stroke: #ffffff; stroke-linecap: round\"/>\n     </g>\n     <g id=\"line2d_20\"/>\n     <g id=\"text_11\">\n      <!-- 500 -->\n      <g style=\"fill: #262626\" transform=\"translate(28.208438 220.956984) scale(0.1 -0.1)\">\n       <use xlink:href=\"#DejaVuSerif-35\"/>\n       <use xlink:href=\"#DejaVuSerif-30\" x=\"63.623047\"/>\n       <use xlink:href=\"#DejaVuSerif-30\" x=\"127.246094\"/>\n      </g>\n     </g>\n    </g>\n    <g id=\"ytick_4\">\n     <g id=\"line2d_21\">\n      <path d=\"M 54.295938 176.018034 \nL 612.295938 176.018034 \n\" clip-path=\"url(#p7a78da49c7)\" style=\"fill: none; stroke: #ffffff; stroke-linecap: round\"/>\n     </g>\n     <g id=\"line2d_22\"/>\n     <g id=\"text_12\">\n      <!-- 750 -->\n      <g style=\"fill: #262626\" transform=\"translate(28.208438 179.817253) scale(0.1 -0.1)\">\n       <defs>\n        <path id=\"DejaVuSerif-37\" d=\"M 3609 4347 \nL 1784 0 \nL 1319 0 \nL 3059 4153 \nL 903 4153 \nL 903 3578 \nL 538 3578 \nL 538 4666 \nL 3609 4666 \nL 3609 4347 \nz\n\" transform=\"scale(0.015625)\"/>\n       </defs>\n       <use xlink:href=\"#DejaVuSerif-37\"/>\n       <use xlink:href=\"#DejaVuSerif-35\" x=\"63.623047\"/>\n       <use xlink:href=\"#DejaVuSerif-30\" x=\"127.246094\"/>\n      </g>\n     </g>\n    </g>\n    <g id=\"ytick_5\">\n     <g id=\"line2d_23\">\n      <path d=\"M 54.295938 134.878304 \nL 612.295938 134.878304 \n\" clip-path=\"url(#p7a78da49c7)\" style=\"fill: none; stroke: #ffffff; stroke-linecap: round\"/>\n     </g>\n     <g id=\"line2d_24\"/>\n     <g id=\"text_13\">\n      <!-- 1000 -->\n      <g style=\"fill: #262626\" transform=\"translate(21.845938 138.677522) scale(0.1 -0.1)\">\n       <use xlink:href=\"#DejaVuSerif-31\"/>\n       <use xlink:href=\"#DejaVuSerif-30\" x=\"63.623047\"/>\n       <use xlink:href=\"#DejaVuSerif-30\" x=\"127.246094\"/>\n       <use xlink:href=\"#DejaVuSerif-30\" x=\"190.869141\"/>\n      </g>\n     </g>\n    </g>\n    <g id=\"ytick_6\">\n     <g id=\"line2d_25\">\n      <path d=\"M 54.295938 93.738573 \nL 612.295938 93.738573 \n\" clip-path=\"url(#p7a78da49c7)\" style=\"fill: none; stroke: #ffffff; stroke-linecap: round\"/>\n     </g>\n     <g id=\"line2d_26\"/>\n     <g id=\"text_14\">\n      <!-- 1250 -->\n      <g style=\"fill: #262626\" transform=\"translate(21.845938 97.537792) scale(0.1 -0.1)\">\n       <use xlink:href=\"#DejaVuSerif-31\"/>\n       <use xlink:href=\"#DejaVuSerif-32\" x=\"63.623047\"/>\n       <use xlink:href=\"#DejaVuSerif-35\" x=\"127.246094\"/>\n       <use xlink:href=\"#DejaVuSerif-30\" x=\"190.869141\"/>\n      </g>\n     </g>\n    </g>\n    <g id=\"ytick_7\">\n     <g id=\"line2d_27\">\n      <path d=\"M 54.295938 52.598842 \nL 612.295938 52.598842 \n\" clip-path=\"url(#p7a78da49c7)\" style=\"fill: none; stroke: #ffffff; stroke-linecap: round\"/>\n     </g>\n     <g id=\"line2d_28\"/>\n     <g id=\"text_15\">\n      <!-- 1500 -->\n      <g style=\"fill: #262626\" transform=\"translate(21.845938 56.398061) scale(0.1 -0.1)\">\n       <use xlink:href=\"#DejaVuSerif-31\"/>\n       <use xlink:href=\"#DejaVuSerif-35\" x=\"63.623047\"/>\n       <use xlink:href=\"#DejaVuSerif-30\" x=\"127.246094\"/>\n       <use xlink:href=\"#DejaVuSerif-30\" x=\"190.869141\"/>\n      </g>\n     </g>\n    </g>\n    <g id=\"ytick_8\">\n     <g id=\"line2d_29\">\n      <path d=\"M 54.295938 11.459111 \nL 612.295938 11.459111 \n\" clip-path=\"url(#p7a78da49c7)\" style=\"fill: none; stroke: #ffffff; stroke-linecap: round\"/>\n     </g>\n     <g id=\"line2d_30\"/>\n     <g id=\"text_16\">\n      <!-- 1750 -->\n      <g style=\"fill: #262626\" transform=\"translate(21.845938 15.25833) scale(0.1 -0.1)\">\n       <use xlink:href=\"#DejaVuSerif-31\"/>\n       <use xlink:href=\"#DejaVuSerif-37\" x=\"63.623047\"/>\n       <use xlink:href=\"#DejaVuSerif-35\" x=\"127.246094\"/>\n       <use xlink:href=\"#DejaVuSerif-30\" x=\"190.869141\"/>\n      </g>\n     </g>\n    </g>\n    <g id=\"text_17\">\n     <!-- total reward -->\n     <g style=\"fill: #262626\" transform=\"translate(15.558281 208.059141) rotate(-90) scale(0.11 -0.11)\">\n      <defs>\n       <path id=\"DejaVuSerif-74\" d=\"M 691 2988 \nL 184 2988 \nL 184 3322 \nL 691 3322 \nL 691 4353 \nL 1269 4353 \nL 1269 3322 \nL 2350 3322 \nL 2350 2988 \nL 1269 2988 \nL 1269 878 \nQ 1269 456 1350 337 \nQ 1431 219 1650 219 \nQ 1875 219 1978 351 \nQ 2081 484 2088 781 \nL 2522 781 \nQ 2497 328 2275 118 \nQ 2053 -91 1600 -91 \nQ 1103 -91 897 129 \nQ 691 350 691 878 \nL 691 2988 \nz\n\" transform=\"scale(0.015625)\"/>\n       <path id=\"DejaVuSerif-61\" d=\"M 2547 1044 \nL 2547 1747 \nL 1806 1747 \nQ 1378 1747 1168 1562 \nQ 959 1378 959 997 \nQ 959 650 1171 447 \nQ 1384 244 1747 244 \nQ 2106 244 2326 466 \nQ 2547 688 2547 1044 \nz\nM 3122 2075 \nL 3122 331 \nL 3634 331 \nL 3634 0 \nL 2547 0 \nL 2547 359 \nQ 2356 128 2106 18 \nQ 1856 -91 1522 -91 \nQ 969 -91 644 203 \nQ 319 497 319 997 \nQ 319 1513 691 1797 \nQ 1063 2081 1741 2081 \nL 2547 2081 \nL 2547 2309 \nQ 2547 2688 2317 2895 \nQ 2088 3103 1672 3103 \nQ 1328 3103 1125 2947 \nQ 922 2791 872 2484 \nL 575 2484 \nL 575 3156 \nQ 875 3284 1158 3348 \nQ 1441 3413 1709 3413 \nQ 2400 3413 2761 3070 \nQ 3122 2728 3122 2075 \nz\n\" transform=\"scale(0.015625)\"/>\n       <path id=\"DejaVuSerif-6c\" d=\"M 1313 331 \nL 1856 331 \nL 1856 0 \nL 184 0 \nL 184 331 \nL 738 331 \nL 738 4531 \nL 184 4531 \nL 184 4863 \nL 1313 4863 \nL 1313 331 \nz\n\" transform=\"scale(0.015625)\"/>\n       <path id=\"DejaVuSerif-20\" transform=\"scale(0.015625)\"/>\n       <path id=\"DejaVuSerif-72\" d=\"M 3059 3328 \nL 3059 2497 \nL 2728 2497 \nQ 2713 2744 2591 2866 \nQ 2469 2988 2234 2988 \nQ 1809 2988 1582 2694 \nQ 1356 2400 1356 1850 \nL 1356 331 \nL 2022 331 \nL 2022 0 \nL 263 0 \nL 263 331 \nL 781 331 \nL 781 2994 \nL 231 2994 \nL 231 3322 \nL 1356 3322 \nL 1356 2731 \nQ 1525 3078 1790 3245 \nQ 2056 3413 2438 3413 \nQ 2578 3413 2733 3391 \nQ 2888 3369 3059 3328 \nz\n\" transform=\"scale(0.015625)\"/>\n       <path id=\"DejaVuSerif-77\" d=\"M 3072 3322 \nL 3922 728 \nL 4672 2988 \nL 4191 2988 \nL 4191 3322 \nL 5394 3322 \nL 5394 2988 \nL 5025 2988 \nL 4038 0 \nL 3559 0 \nL 2741 2484 \nL 1919 0 \nL 1459 0 \nL 475 2988 \nL 103 2988 \nL 103 3322 \nL 1606 3322 \nL 1606 2988 \nL 1069 2988 \nL 1813 728 \nL 2669 3322 \nL 3072 3322 \nz\n\" transform=\"scale(0.015625)\"/>\n      </defs>\n      <use xlink:href=\"#DejaVuSerif-74\"/>\n      <use xlink:href=\"#DejaVuSerif-6f\" x=\"40.185547\"/>\n      <use xlink:href=\"#DejaVuSerif-74\" x=\"100.390625\"/>\n      <use xlink:href=\"#DejaVuSerif-61\" x=\"140.576172\"/>\n      <use xlink:href=\"#DejaVuSerif-6c\" x=\"200.195312\"/>\n      <use xlink:href=\"#DejaVuSerif-20\" x=\"232.177734\"/>\n      <use xlink:href=\"#DejaVuSerif-72\" x=\"263.964844\"/>\n      <use xlink:href=\"#DejaVuSerif-65\" x=\"311.767578\"/>\n      <use xlink:href=\"#DejaVuSerif-77\" x=\"370.947266\"/>\n      <use xlink:href=\"#DejaVuSerif-61\" x=\"456.542969\"/>\n      <use xlink:href=\"#DejaVuSerif-72\" x=\"516.162109\"/>\n      <use xlink:href=\"#DejaVuSerif-64\" x=\"563.964844\"/>\n     </g>\n    </g>\n   </g>\n   <g id=\"line2d_31\">\n    <path d=\"M 79.659574 286.312007 \nL 87.97552 283.172223 \nL 96.291467 280.572192 \nL 104.607413 267.446972 \nL 112.923359 254.321753 \nL 121.239306 241.196533 \nL 129.555252 228.071313 \nL 137.871198 214.946093 \nL 146.187145 201.820874 \nL 154.503091 199.628949 \nL 162.819037 193.750904 \nL 171.134984 180.625684 \nL 179.45093 167.500465 \nL 187.766876 154.375245 \nL 196.082823 141.250025 \nL 204.398769 138.781641 \nL 212.714715 125.656422 \nL 221.030662 112.531202 \nL 229.346608 99.405982 \nL 237.662554 86.280762 \nL 245.978501 73.155543 \nL 254.294447 60.030323 \nL 262.610394 58.977146 \nL 270.92634 45.851926 \nL 279.242286 32.726706 \nL 287.558233 39.809322 \nL 295.874179 29.823887 \nL 304.190125 30.488705 \nL 312.506072 42.310618 \nL 320.822018 53.211001 \nL 329.137964 53.211001 \nL 337.453911 63.433401 \nL 345.769857 74.18239 \nL 354.085803 74.18239 \nL 362.40175 63.249095 \nL 370.717696 56.00192 \nL 379.033642 56.00192 \nL 387.349589 66.263815 \nL 395.665535 66.263815 \nL 403.981481 66.263815 \nL 412.297428 55.606979 \nL 420.613374 55.606979 \nL 428.929321 55.606979 \nL 437.245267 55.606979 \nL 445.561213 55.606979 \nL 453.87716 55.606979 \nL 462.193106 55.606979 \nL 470.509052 43.534936 \nL 478.824999 54.152278 \nL 487.140945 54.152278 \nL 495.456891 58.977146 \nL 503.772838 66.777239 \nL 512.088784 55.587232 \nL 520.40473 54.191772 \nL 528.720677 43.291389 \nL 537.036623 43.291389 \nL 545.352569 33.068989 \nL 553.668516 22.32 \nL 561.984462 22.32 \nL 570.300408 22.32 \nL 578.616355 22.32 \n\" clip-path=\"url(#p7a78da49c7)\" style=\"fill: none; stroke: #4c72b0; stroke-width: 1.75; stroke-linecap: round\"/>\n   </g>\n   <g id=\"line2d_32\">\n    <path d=\"M 87.97552 324.72 \nL 96.291467 304.873167 \nL 104.607413 286.014216 \nL 112.923359 268.118058 \nL 121.239306 251.1596 \nL 129.555252 235.113754 \nL 137.871198 219.95543 \nL 146.187145 205.659536 \nL 154.503091 192.200983 \nL 162.819037 179.554681 \nL 171.134984 167.695539 \nL 179.45093 156.598467 \nL 187.766876 146.238375 \nL 196.082823 136.590173 \nL 204.398769 127.62877 \nL 212.714715 119.329077 \nL 221.030662 111.666003 \nL 229.346608 104.614457 \nL 237.662554 98.149351 \nL 245.978501 92.245592 \nL 254.294447 86.878093 \nL 262.610394 82.021761 \nL 270.92634 77.651507 \nL 279.242286 73.742241 \nL 287.558233 70.268872 \nL 295.874179 67.20631 \nL 304.190125 64.529466 \nL 312.506072 62.213248 \nL 320.822018 60.232567 \nL 329.137964 58.562332 \nL 337.453911 57.177453 \nL 345.769857 56.052841 \nL 354.085803 55.163404 \nL 362.40175 54.484053 \nL 370.717696 53.989697 \nL 379.033642 53.655246 \nL 387.349589 53.45561 \nL 395.665535 53.365699 \nL 403.981481 53.360422 \nL 412.297428 53.41469 \nL 420.613374 53.503412 \nL 428.929321 53.601498 \nL 437.245267 53.683857 \nL 445.561213 53.7254 \nL 453.87716 53.701036 \nL 462.193106 53.585675 \nL 470.509052 53.354227 \nL 478.824999 52.981602 \nL 487.140945 52.442709 \nL 495.456891 51.712458 \nL 503.772838 50.76576 \nL 512.088784 49.577523 \nL 520.40473 48.122658 \nL 528.720677 46.376074 \nL 537.036623 44.312681 \nL 545.352569 41.907389 \nL 553.668516 39.135108 \nL 561.984462 35.970748 \nL 570.300408 32.389218 \nL 578.616355 28.365428 \nL 586.932301 23.874288 \n\" clip-path=\"url(#p7a78da49c7)\" style=\"fill: none; stroke-dasharray: 6.475,2.8; stroke-dashoffset: 0; stroke: #ff0000; stroke-width: 1.75\"/>\n   </g>\n   <g id=\"patch_3\">\n    <path d=\"M 54.295938 339.84 \nL 54.295938 7.2 \n\" style=\"fill: none\"/>\n   </g>\n   <g id=\"patch_4\">\n    <path d=\"M 612.295938 339.84 \nL 612.295938 7.2 \n\" style=\"fill: none\"/>\n   </g>\n   <g id=\"patch_5\">\n    <path d=\"M 54.295938 339.84 \nL 612.295938 339.84 \n\" style=\"fill: none\"/>\n   </g>\n   <g id=\"patch_6\">\n    <path d=\"M 54.295938 7.2 \nL 612.295938 7.2 \n\" style=\"fill: none\"/>\n   </g>\n   <g id=\"legend_1\">\n    <g id=\"line2d_33\">\n     <path d=\"M 63.295938 20.298437 \nL 73.295938 20.298437 \nL 83.295938 20.298437 \n\" style=\"fill: none; stroke: #4c72b0; stroke-width: 1.75; stroke-linecap: round\"/>\n    </g>\n    <g id=\"text_18\">\n     <!-- moving average -->\n     <g style=\"fill: #262626\" transform=\"translate(91.295938 23.798437) scale(0.1 -0.1)\">\n      <defs>\n       <path id=\"DejaVuSerif-6d\" d=\"M 3316 2675 \nQ 3481 3041 3739 3227 \nQ 3997 3413 4341 3413 \nQ 4863 3413 5119 3089 \nQ 5375 2766 5375 2113 \nL 5375 331 \nL 5894 331 \nL 5894 0 \nL 4300 0 \nL 4300 331 \nL 4800 331 \nL 4800 2047 \nQ 4800 2556 4650 2772 \nQ 4500 2988 4153 2988 \nQ 3769 2988 3567 2697 \nQ 3366 2406 3366 1850 \nL 3366 331 \nL 3866 331 \nL 3866 0 \nL 2291 0 \nL 2291 331 \nL 2791 331 \nL 2791 2069 \nQ 2791 2566 2641 2777 \nQ 2491 2988 2144 2988 \nQ 1759 2988 1557 2697 \nQ 1356 2406 1356 1850 \nL 1356 331 \nL 1856 331 \nL 1856 0 \nL 263 0 \nL 263 331 \nL 781 331 \nL 781 2994 \nL 231 2994 \nL 231 3322 \nL 1356 3322 \nL 1356 2731 \nQ 1516 3063 1762 3238 \nQ 2009 3413 2322 3413 \nQ 2709 3413 2968 3220 \nQ 3228 3028 3316 2675 \nz\n\" transform=\"scale(0.015625)\"/>\n       <path id=\"DejaVuSerif-76\" d=\"M 1581 0 \nL 359 2988 \nL -19 2988 \nL -19 3322 \nL 1509 3322 \nL 1509 2988 \nL 978 2988 \nL 1913 703 \nL 2847 2988 \nL 2350 2988 \nL 2350 3322 \nL 3597 3322 \nL 3597 2988 \nL 3225 2988 \nL 2003 0 \nL 1581 0 \nz\n\" transform=\"scale(0.015625)\"/>\n       <path id=\"DejaVuSerif-6e\" d=\"M 263 0 \nL 263 331 \nL 781 331 \nL 781 2988 \nL 231 2988 \nL 231 3322 \nL 1356 3322 \nL 1356 2731 \nQ 1516 3069 1770 3241 \nQ 2025 3413 2363 3413 \nQ 2913 3413 3172 3097 \nQ 3431 2781 3431 2113 \nL 3431 331 \nL 3944 331 \nL 3944 0 \nL 2356 0 \nL 2356 331 \nL 2853 331 \nL 2853 1931 \nQ 2853 2541 2703 2767 \nQ 2553 2994 2175 2994 \nQ 1775 2994 1565 2701 \nQ 1356 2409 1356 1850 \nL 1356 331 \nL 1856 331 \nL 1856 0 \nL 263 0 \nz\n\" transform=\"scale(0.015625)\"/>\n       <path id=\"DejaVuSerif-67\" d=\"M 3359 2988 \nL 3359 72 \nQ 3359 -644 2965 -1033 \nQ 2572 -1422 1844 -1422 \nQ 1516 -1422 1216 -1362 \nQ 916 -1303 641 -1184 \nL 641 -488 \nL 941 -488 \nQ 997 -813 1206 -963 \nQ 1416 -1113 1806 -1113 \nQ 2313 -1113 2548 -827 \nQ 2784 -541 2784 72 \nL 2784 519 \nQ 2616 206 2355 57 \nQ 2094 -91 1709 -91 \nQ 1097 -91 708 395 \nQ 319 881 319 1663 \nQ 319 2444 706 2928 \nQ 1094 3413 1709 3413 \nQ 2094 3413 2355 3264 \nQ 2616 3116 2784 2803 \nL 2784 3322 \nL 3909 3322 \nL 3909 2988 \nL 3359 2988 \nz\nM 2784 1825 \nQ 2784 2422 2554 2737 \nQ 2325 3053 1888 3053 \nQ 1444 3053 1217 2703 \nQ 991 2353 991 1663 \nQ 991 975 1217 622 \nQ 1444 269 1888 269 \nQ 2325 269 2554 583 \nQ 2784 897 2784 1497 \nL 2784 1825 \nz\n\" transform=\"scale(0.015625)\"/>\n      </defs>\n      <use xlink:href=\"#DejaVuSerif-6d\"/>\n      <use xlink:href=\"#DejaVuSerif-6f\" x=\"94.824219\"/>\n      <use xlink:href=\"#DejaVuSerif-76\" x=\"155.029297\"/>\n      <use xlink:href=\"#DejaVuSerif-69\" x=\"211.523438\"/>\n      <use xlink:href=\"#DejaVuSerif-6e\" x=\"243.505859\"/>\n      <use xlink:href=\"#DejaVuSerif-67\" x=\"307.910156\"/>\n      <use xlink:href=\"#DejaVuSerif-20\" x=\"371.923828\"/>\n      <use xlink:href=\"#DejaVuSerif-61\" x=\"403.710938\"/>\n      <use xlink:href=\"#DejaVuSerif-76\" x=\"463.330078\"/>\n      <use xlink:href=\"#DejaVuSerif-65\" x=\"519.824219\"/>\n      <use xlink:href=\"#DejaVuSerif-72\" x=\"579.003906\"/>\n      <use xlink:href=\"#DejaVuSerif-61\" x=\"626.806641\"/>\n      <use xlink:href=\"#DejaVuSerif-67\" x=\"686.425781\"/>\n      <use xlink:href=\"#DejaVuSerif-65\" x=\"750.439453\"/>\n     </g>\n    </g>\n    <g id=\"line2d_34\">\n     <path d=\"M 63.295938 35.11875 \nL 73.295938 35.11875 \nL 83.295938 35.11875 \n\" style=\"fill: none; stroke-dasharray: 6.475,2.8; stroke-dashoffset: 0; stroke: #ff0000; stroke-width: 1.75\"/>\n    </g>\n    <g id=\"text_19\">\n     <!-- regression -->\n     <g style=\"fill: #262626\" transform=\"translate(91.295938 38.61875) scale(0.1 -0.1)\">\n      <use xlink:href=\"#DejaVuSerif-72\"/>\n      <use xlink:href=\"#DejaVuSerif-65\" x=\"47.802734\"/>\n      <use xlink:href=\"#DejaVuSerif-67\" x=\"106.982422\"/>\n      <use xlink:href=\"#DejaVuSerif-72\" x=\"170.996094\"/>\n      <use xlink:href=\"#DejaVuSerif-65\" x=\"218.798828\"/>\n      <use xlink:href=\"#DejaVuSerif-73\" x=\"277.978516\"/>\n      <use xlink:href=\"#DejaVuSerif-73\" x=\"329.296875\"/>\n      <use xlink:href=\"#DejaVuSerif-69\" x=\"380.615234\"/>\n      <use xlink:href=\"#DejaVuSerif-6f\" x=\"412.597656\"/>\n      <use xlink:href=\"#DejaVuSerif-6e\" x=\"472.802734\"/>\n     </g>\n    </g>\n   </g>\n  </g>\n </g>\n <defs>\n  <clipPath id=\"p7a78da49c7\">\n   <rect x=\"54.295938\" y=\"7.2\" width=\"558\" height=\"332.64\"/>\n  </clipPath>\n </defs>\n</svg>\n",
            "text/plain": [
              "<Figure size 1000x600 with 1 Axes>"
            ]
          },
          "metadata": {},
          "output_type": "display_data"
        }
      ],
      "source": [
        "plt.figure(figsize=(10, 6))\n",
        "x = range(1, len(agent.averages) + 1)\n",
        "y = np.polyval(np.polyfit(x, agent.averages, deg=3), x)\n",
        "plt.plot(agent.averages, label='moving average')\n",
        "plt.plot(x, y, 'r--', label='regression')\n",
        "plt.xlabel('episodes')\n",
        "plt.ylabel('total reward')\n",
        "plt.legend();"
      ]
    },
    {
      "cell_type": "code",
      "execution_count": null,
      "metadata": {
        "colab": {
          "background_save": true
        },
        "id": "VmbFbkYRZRi1",
        "outputId": "68826000-f8fb-4e93-bfa1-1860f90d9b22"
      },
      "outputs": [
        {
          "data": {
            "image/svg+xml": "<?xml version=\"1.0\" encoding=\"utf-8\" standalone=\"no\"?>\n<!DOCTYPE svg PUBLIC \"-//W3C//DTD SVG 1.1//EN\"\n  \"http://www.w3.org/Graphics/SVG/1.1/DTD/svg11.dtd\">\n<svg xmlns:xlink=\"http://www.w3.org/1999/xlink\" width=\"610.105469pt\" height=\"378.364062pt\" viewBox=\"0 0 610.105469 378.364062\" xmlns=\"http://www.w3.org/2000/svg\" version=\"1.1\">\n <metadata>\n  <rdf:RDF xmlns:dc=\"http://purl.org/dc/elements/1.1/\" xmlns:cc=\"http://creativecommons.org/ns#\" xmlns:rdf=\"http://www.w3.org/1999/02/22-rdf-syntax-ns#\">\n   <cc:Work>\n    <dc:type rdf:resource=\"http://purl.org/dc/dcmitype/StillImage\"/>\n    <dc:date>2023-12-10T22:58:31.123221</dc:date>\n    <dc:format>image/svg+xml</dc:format>\n    <dc:creator>\n     <cc:Agent>\n      <dc:title>Matplotlib v3.7.1, https://matplotlib.org/</dc:title>\n     </cc:Agent>\n    </dc:creator>\n   </cc:Work>\n  </rdf:RDF>\n </metadata>\n <defs>\n  <style type=\"text/css\">*{stroke-linejoin: round; stroke-linecap: butt}</style>\n </defs>\n <g id=\"figure_1\">\n  <g id=\"patch_1\">\n   <path d=\"M 0 378.364062 \nL 610.105469 378.364062 \nL 610.105469 0 \nL 0 0 \nz\n\" style=\"fill: #ffffff\"/>\n  </g>\n  <g id=\"axes_1\">\n   <g id=\"patch_2\">\n    <path d=\"M 44.905469 339.84 \nL 602.905469 339.84 \nL 602.905469 7.2 \nL 44.905469 7.2 \nz\n\" style=\"fill: #eaeaf2\"/>\n   </g>\n   <g id=\"matplotlib.axis_1\">\n    <g id=\"xtick_1\">\n     <g id=\"line2d_1\">\n      <path d=\"M 70.269105 339.84 \nL 70.269105 7.2 \n\" clip-path=\"url(#pbd197ead3c)\" style=\"fill: none; stroke: #ffffff; stroke-linecap: round\"/>\n     </g>\n     <g id=\"line2d_2\"/>\n     <g id=\"text_1\">\n      <!-- 0 -->\n      <g style=\"fill: #262626\" transform=\"translate(67.087855 354.438437) scale(0.1 -0.1)\">\n       <defs>\n        <path id=\"DejaVuSerif-30\" d=\"M 2034 219 \nQ 2513 219 2750 744 \nQ 2988 1269 2988 2328 \nQ 2988 3391 2750 3916 \nQ 2513 4441 2034 4441 \nQ 1556 4441 1318 3916 \nQ 1081 3391 1081 2328 \nQ 1081 1269 1318 744 \nQ 1556 219 2034 219 \nz\nM 2034 -91 \nQ 1275 -91 848 546 \nQ 422 1184 422 2328 \nQ 422 3475 848 4112 \nQ 1275 4750 2034 4750 \nQ 2797 4750 3222 4112 \nQ 3647 3475 3647 2328 \nQ 3647 1184 3222 546 \nQ 2797 -91 2034 -91 \nz\n\" transform=\"scale(0.015625)\"/>\n       </defs>\n       <use xlink:href=\"#DejaVuSerif-30\"/>\n      </g>\n     </g>\n    </g>\n    <g id=\"xtick_2\">\n     <g id=\"line2d_3\">\n      <path d=\"M 153.428569 339.84 \nL 153.428569 7.2 \n\" clip-path=\"url(#pbd197ead3c)\" style=\"fill: none; stroke: #ffffff; stroke-linecap: round\"/>\n     </g>\n     <g id=\"line2d_4\"/>\n     <g id=\"text_2\">\n      <!-- 10 -->\n      <g style=\"fill: #262626\" transform=\"translate(147.066069 354.438437) scale(0.1 -0.1)\">\n       <defs>\n        <path id=\"DejaVuSerif-31\" d=\"M 909 0 \nL 909 331 \nL 1722 331 \nL 1722 4213 \nL 781 3603 \nL 781 4013 \nL 1919 4750 \nL 2350 4750 \nL 2350 331 \nL 3163 331 \nL 3163 0 \nL 909 0 \nz\n\" transform=\"scale(0.015625)\"/>\n       </defs>\n       <use xlink:href=\"#DejaVuSerif-31\"/>\n       <use xlink:href=\"#DejaVuSerif-30\" x=\"63.623047\"/>\n      </g>\n     </g>\n    </g>\n    <g id=\"xtick_3\">\n     <g id=\"line2d_5\">\n      <path d=\"M 236.588032 339.84 \nL 236.588032 7.2 \n\" clip-path=\"url(#pbd197ead3c)\" style=\"fill: none; stroke: #ffffff; stroke-linecap: round\"/>\n     </g>\n     <g id=\"line2d_6\"/>\n     <g id=\"text_3\">\n      <!-- 20 -->\n      <g style=\"fill: #262626\" transform=\"translate(230.225532 354.438437) scale(0.1 -0.1)\">\n       <defs>\n        <path id=\"DejaVuSerif-32\" d=\"M 819 3553 \nL 469 3553 \nL 469 4384 \nQ 803 4563 1142 4656 \nQ 1481 4750 1806 4750 \nQ 2534 4750 2956 4397 \nQ 3378 4044 3378 3438 \nQ 3378 2753 2422 1800 \nQ 2347 1728 2309 1691 \nL 1131 513 \nL 3078 513 \nL 3078 1088 \nL 3444 1088 \nL 3444 0 \nL 434 0 \nL 434 341 \nL 1850 1753 \nQ 2319 2222 2519 2614 \nQ 2719 3006 2719 3438 \nQ 2719 3909 2473 4175 \nQ 2228 4441 1797 4441 \nQ 1350 4441 1106 4219 \nQ 863 3997 819 3553 \nz\n\" transform=\"scale(0.015625)\"/>\n       </defs>\n       <use xlink:href=\"#DejaVuSerif-32\"/>\n       <use xlink:href=\"#DejaVuSerif-30\" x=\"63.623047\"/>\n      </g>\n     </g>\n    </g>\n    <g id=\"xtick_4\">\n     <g id=\"line2d_7\">\n      <path d=\"M 319.747496 339.84 \nL 319.747496 7.2 \n\" clip-path=\"url(#pbd197ead3c)\" style=\"fill: none; stroke: #ffffff; stroke-linecap: round\"/>\n     </g>\n     <g id=\"line2d_8\"/>\n     <g id=\"text_4\">\n      <!-- 30 -->\n      <g style=\"fill: #262626\" transform=\"translate(313.384996 354.438437) scale(0.1 -0.1)\">\n       <defs>\n        <path id=\"DejaVuSerif-33\" d=\"M 622 4469 \nQ 988 4606 1323 4678 \nQ 1659 4750 1953 4750 \nQ 2638 4750 3022 4454 \nQ 3406 4159 3406 3634 \nQ 3406 3213 3140 2930 \nQ 2875 2647 2388 2547 \nQ 2963 2466 3280 2130 \nQ 3597 1794 3597 1259 \nQ 3597 606 3158 257 \nQ 2719 -91 1894 -91 \nQ 1528 -91 1179 -12 \nQ 831 66 488 225 \nL 488 1131 \nL 838 1131 \nQ 869 681 1141 450 \nQ 1413 219 1906 219 \nQ 2384 219 2661 495 \nQ 2938 772 2938 1253 \nQ 2938 1803 2653 2086 \nQ 2369 2369 1819 2369 \nL 1522 2369 \nL 1522 2688 \nL 1678 2688 \nQ 2225 2688 2498 2914 \nQ 2772 3141 2772 3597 \nQ 2772 4006 2547 4223 \nQ 2322 4441 1900 4441 \nQ 1478 4441 1245 4241 \nQ 1013 4041 972 3647 \nL 622 3647 \nL 622 4469 \nz\n\" transform=\"scale(0.015625)\"/>\n       </defs>\n       <use xlink:href=\"#DejaVuSerif-33\"/>\n       <use xlink:href=\"#DejaVuSerif-30\" x=\"63.623047\"/>\n      </g>\n     </g>\n    </g>\n    <g id=\"xtick_5\">\n     <g id=\"line2d_9\">\n      <path d=\"M 402.906959 339.84 \nL 402.906959 7.2 \n\" clip-path=\"url(#pbd197ead3c)\" style=\"fill: none; stroke: #ffffff; stroke-linecap: round\"/>\n     </g>\n     <g id=\"line2d_10\"/>\n     <g id=\"text_5\">\n      <!-- 40 -->\n      <g style=\"fill: #262626\" transform=\"translate(396.544459 354.438437) scale(0.1 -0.1)\">\n       <defs>\n        <path id=\"DejaVuSerif-34\" d=\"M 2234 1581 \nL 2234 4063 \nL 641 1581 \nL 2234 1581 \nz\nM 3609 0 \nL 1484 0 \nL 1484 331 \nL 2234 331 \nL 2234 1247 \nL 197 1247 \nL 197 1588 \nL 2241 4750 \nL 2859 4750 \nL 2859 1581 \nL 3750 1581 \nL 3750 1247 \nL 2859 1247 \nL 2859 331 \nL 3609 331 \nL 3609 0 \nz\n\" transform=\"scale(0.015625)\"/>\n       </defs>\n       <use xlink:href=\"#DejaVuSerif-34\"/>\n       <use xlink:href=\"#DejaVuSerif-30\" x=\"63.623047\"/>\n      </g>\n     </g>\n    </g>\n    <g id=\"xtick_6\">\n     <g id=\"line2d_11\">\n      <path d=\"M 486.066423 339.84 \nL 486.066423 7.2 \n\" clip-path=\"url(#pbd197ead3c)\" style=\"fill: none; stroke: #ffffff; stroke-linecap: round\"/>\n     </g>\n     <g id=\"line2d_12\"/>\n     <g id=\"text_6\">\n      <!-- 50 -->\n      <g style=\"fill: #262626\" transform=\"translate(479.703923 354.438437) scale(0.1 -0.1)\">\n       <defs>\n        <path id=\"DejaVuSerif-35\" d=\"M 3219 4666 \nL 3219 4153 \nL 1081 4153 \nL 1081 2816 \nQ 1244 2928 1461 2984 \nQ 1678 3041 1947 3041 \nQ 2703 3041 3140 2622 \nQ 3578 2203 3578 1478 \nQ 3578 738 3136 323 \nQ 2694 -91 1894 -91 \nQ 1572 -91 1234 -12 \nQ 897 66 544 225 \nL 544 1131 \nL 897 1131 \nQ 925 688 1179 453 \nQ 1434 219 1894 219 \nQ 2388 219 2653 544 \nQ 2919 869 2919 1478 \nQ 2919 2084 2655 2407 \nQ 2391 2731 1894 2731 \nQ 1613 2731 1398 2631 \nQ 1184 2531 1019 2322 \nL 750 2322 \nL 750 4666 \nL 3219 4666 \nz\n\" transform=\"scale(0.015625)\"/>\n       </defs>\n       <use xlink:href=\"#DejaVuSerif-35\"/>\n       <use xlink:href=\"#DejaVuSerif-30\" x=\"63.623047\"/>\n      </g>\n     </g>\n    </g>\n    <g id=\"xtick_7\">\n     <g id=\"line2d_13\">\n      <path d=\"M 569.225886 339.84 \nL 569.225886 7.2 \n\" clip-path=\"url(#pbd197ead3c)\" style=\"fill: none; stroke: #ffffff; stroke-linecap: round\"/>\n     </g>\n     <g id=\"line2d_14\"/>\n     <g id=\"text_7\">\n      <!-- 60 -->\n      <g style=\"fill: #262626\" transform=\"translate(562.863386 354.438437) scale(0.1 -0.1)\">\n       <defs>\n        <path id=\"DejaVuSerif-36\" d=\"M 2094 219 \nQ 2534 219 2771 542 \nQ 3009 866 3009 1472 \nQ 3009 2078 2771 2401 \nQ 2534 2725 2094 2725 \nQ 1647 2725 1412 2412 \nQ 1178 2100 1178 1509 \nQ 1178 888 1415 553 \nQ 1653 219 2094 219 \nz\nM 1075 2569 \nQ 1288 2803 1556 2918 \nQ 1825 3034 2163 3034 \nQ 2859 3034 3264 2615 \nQ 3669 2197 3669 1472 \nQ 3669 763 3233 336 \nQ 2797 -91 2069 -91 \nQ 1278 -91 853 498 \nQ 428 1088 428 2181 \nQ 428 3406 931 4078 \nQ 1434 4750 2350 4750 \nQ 2597 4750 2869 4703 \nQ 3141 4656 3425 4563 \nL 3425 3794 \nL 3072 3794 \nQ 3034 4109 2831 4275 \nQ 2628 4441 2284 4441 \nQ 1678 4441 1381 3981 \nQ 1084 3522 1075 2569 \nz\n\" transform=\"scale(0.015625)\"/>\n       </defs>\n       <use xlink:href=\"#DejaVuSerif-36\"/>\n       <use xlink:href=\"#DejaVuSerif-30\" x=\"63.623047\"/>\n      </g>\n     </g>\n    </g>\n    <g id=\"text_8\">\n     <!-- episodes -->\n     <g style=\"fill: #262626\" transform=\"translate(299.638438 368.876406) scale(0.11 -0.11)\">\n      <defs>\n       <path id=\"DejaVuSerif-65\" d=\"M 3469 1600 \nL 991 1600 \nL 991 1575 \nQ 991 903 1244 561 \nQ 1497 219 1991 219 \nQ 2369 219 2611 417 \nQ 2853 616 2950 1006 \nL 3413 1006 \nQ 3275 459 2904 184 \nQ 2534 -91 1931 -91 \nQ 1203 -91 761 389 \nQ 319 869 319 1663 \nQ 319 2450 753 2931 \nQ 1188 3413 1894 3413 \nQ 2647 3413 3050 2948 \nQ 3453 2484 3469 1600 \nz\nM 2791 1931 \nQ 2772 2513 2545 2808 \nQ 2319 3103 1894 3103 \nQ 1497 3103 1269 2806 \nQ 1041 2509 991 1931 \nL 2791 1931 \nz\n\" transform=\"scale(0.015625)\"/>\n       <path id=\"DejaVuSerif-70\" d=\"M 1313 1825 \nL 1313 1497 \nQ 1313 897 1542 583 \nQ 1772 269 2209 269 \nQ 2650 269 2876 622 \nQ 3103 975 3103 1663 \nQ 3103 2353 2876 2703 \nQ 2650 3053 2209 3053 \nQ 1772 3053 1542 2737 \nQ 1313 2422 1313 1825 \nz\nM 738 2988 \nL 184 2988 \nL 184 3322 \nL 1313 3322 \nL 1313 2803 \nQ 1481 3116 1742 3264 \nQ 2003 3413 2388 3413 \nQ 3000 3413 3387 2928 \nQ 3775 2444 3775 1663 \nQ 3775 881 3387 395 \nQ 3000 -91 2388 -91 \nQ 2003 -91 1742 57 \nQ 1481 206 1313 519 \nL 1313 -997 \nL 1856 -997 \nL 1856 -1331 \nL 184 -1331 \nL 184 -997 \nL 738 -997 \nL 738 2988 \nz\n\" transform=\"scale(0.015625)\"/>\n       <path id=\"DejaVuSerif-69\" d=\"M 622 4353 \nQ 622 4497 726 4603 \nQ 831 4709 978 4709 \nQ 1122 4709 1226 4603 \nQ 1331 4497 1331 4353 \nQ 1331 4206 1228 4103 \nQ 1125 4000 978 4000 \nQ 831 4000 726 4103 \nQ 622 4206 622 4353 \nz\nM 1356 331 \nL 1900 331 \nL 1900 0 \nL 231 0 \nL 231 331 \nL 781 331 \nL 781 2988 \nL 231 2988 \nL 231 3322 \nL 1356 3322 \nL 1356 331 \nz\n\" transform=\"scale(0.015625)\"/>\n       <path id=\"DejaVuSerif-73\" d=\"M 359 184 \nL 359 959 \nL 691 959 \nQ 703 588 923 403 \nQ 1144 219 1575 219 \nQ 1963 219 2166 364 \nQ 2369 509 2369 788 \nQ 2369 1006 2220 1140 \nQ 2072 1275 1594 1428 \nL 1178 1569 \nQ 750 1706 558 1912 \nQ 366 2119 366 2438 \nQ 366 2894 700 3153 \nQ 1034 3413 1625 3413 \nQ 1888 3413 2178 3344 \nQ 2469 3275 2778 3144 \nL 2778 2419 \nL 2447 2419 \nQ 2434 2741 2221 2922 \nQ 2009 3103 1644 3103 \nQ 1281 3103 1095 2975 \nQ 909 2847 909 2591 \nQ 909 2381 1050 2254 \nQ 1191 2128 1613 1997 \nL 2069 1856 \nQ 2541 1709 2748 1489 \nQ 2956 1269 2956 922 \nQ 2956 450 2595 179 \nQ 2234 -91 1600 -91 \nQ 1278 -91 972 -22 \nQ 666 47 359 184 \nz\n\" transform=\"scale(0.015625)\"/>\n       <path id=\"DejaVuSerif-6f\" d=\"M 1925 219 \nQ 2388 219 2623 584 \nQ 2859 950 2859 1663 \nQ 2859 2375 2623 2739 \nQ 2388 3103 1925 3103 \nQ 1463 3103 1227 2739 \nQ 991 2375 991 1663 \nQ 991 950 1228 584 \nQ 1466 219 1925 219 \nz\nM 1925 -91 \nQ 1200 -91 759 389 \nQ 319 869 319 1663 \nQ 319 2456 758 2934 \nQ 1197 3413 1925 3413 \nQ 2653 3413 3092 2934 \nQ 3531 2456 3531 1663 \nQ 3531 869 3092 389 \nQ 2653 -91 1925 -91 \nz\n\" transform=\"scale(0.015625)\"/>\n       <path id=\"DejaVuSerif-64\" d=\"M 3359 331 \nL 3909 331 \nL 3909 0 \nL 2784 0 \nL 2784 519 \nQ 2616 206 2355 57 \nQ 2094 -91 1709 -91 \nQ 1097 -91 708 395 \nQ 319 881 319 1663 \nQ 319 2444 706 2928 \nQ 1094 3413 1709 3413 \nQ 2094 3413 2355 3264 \nQ 2616 3116 2784 2803 \nL 2784 4531 \nL 2241 4531 \nL 2241 4863 \nL 3359 4863 \nL 3359 331 \nz\nM 2784 1497 \nL 2784 1825 \nQ 2784 2422 2554 2737 \nQ 2325 3053 1888 3053 \nQ 1444 3053 1217 2703 \nQ 991 2353 991 1663 \nQ 991 975 1217 622 \nQ 1444 269 1888 269 \nQ 2325 269 2554 583 \nQ 2784 897 2784 1497 \nz\n\" transform=\"scale(0.015625)\"/>\n      </defs>\n      <use xlink:href=\"#DejaVuSerif-65\"/>\n      <use xlink:href=\"#DejaVuSerif-70\" x=\"59.179688\"/>\n      <use xlink:href=\"#DejaVuSerif-69\" x=\"123.193359\"/>\n      <use xlink:href=\"#DejaVuSerif-73\" x=\"155.175781\"/>\n      <use xlink:href=\"#DejaVuSerif-6f\" x=\"206.494141\"/>\n      <use xlink:href=\"#DejaVuSerif-64\" x=\"266.699219\"/>\n      <use xlink:href=\"#DejaVuSerif-65\" x=\"330.712891\"/>\n      <use xlink:href=\"#DejaVuSerif-73\" x=\"389.892578\"/>\n     </g>\n    </g>\n   </g>\n   <g id=\"matplotlib.axis_2\">\n    <g id=\"ytick_1\">\n     <g id=\"line2d_15\">\n      <path d=\"M 44.905469 333.250417 \nL 602.905469 333.250417 \n\" clip-path=\"url(#pbd197ead3c)\" style=\"fill: none; stroke: #ffffff; stroke-linecap: round\"/>\n     </g>\n     <g id=\"line2d_16\"/>\n     <g id=\"text_9\">\n      <!-- 0.8 -->\n      <g style=\"fill: #262626\" transform=\"translate(22.002344 337.049636) scale(0.1 -0.1)\">\n       <defs>\n        <path id=\"DejaVuSerif-2e\" d=\"M 603 325 \nQ 603 500 722 622 \nQ 841 744 1019 744 \nQ 1191 744 1312 622 \nQ 1434 500 1434 325 \nQ 1434 153 1312 31 \nQ 1191 -91 1019 -91 \nQ 841 -91 722 29 \nQ 603 150 603 325 \nz\n\" transform=\"scale(0.015625)\"/>\n        <path id=\"DejaVuSerif-38\" d=\"M 2981 1275 \nQ 2981 1775 2732 2051 \nQ 2484 2328 2034 2328 \nQ 1584 2328 1336 2051 \nQ 1088 1775 1088 1275 \nQ 1088 772 1336 495 \nQ 1584 219 2034 219 \nQ 2484 219 2732 495 \nQ 2981 772 2981 1275 \nz\nM 2853 3541 \nQ 2853 3966 2637 4203 \nQ 2422 4441 2034 4441 \nQ 1650 4441 1433 4203 \nQ 1216 3966 1216 3541 \nQ 1216 3113 1433 2875 \nQ 1650 2638 2034 2638 \nQ 2422 2638 2637 2875 \nQ 2853 3113 2853 3541 \nz\nM 2516 2484 \nQ 3047 2413 3344 2092 \nQ 3641 1772 3641 1275 \nQ 3641 619 3225 264 \nQ 2809 -91 2034 -91 \nQ 1263 -91 845 264 \nQ 428 619 428 1275 \nQ 428 1772 725 2092 \nQ 1022 2413 1556 2484 \nQ 1084 2569 832 2842 \nQ 581 3116 581 3541 \nQ 581 4103 968 4426 \nQ 1356 4750 2034 4750 \nQ 2713 4750 3100 4426 \nQ 3488 4103 3488 3541 \nQ 3488 3116 3236 2842 \nQ 2984 2569 2516 2484 \nz\n\" transform=\"scale(0.015625)\"/>\n       </defs>\n       <use xlink:href=\"#DejaVuSerif-30\"/>\n       <use xlink:href=\"#DejaVuSerif-2e\" x=\"63.623047\"/>\n       <use xlink:href=\"#DejaVuSerif-38\" x=\"95.410156\"/>\n      </g>\n     </g>\n    </g>\n    <g id=\"ytick_2\">\n     <g id=\"line2d_17\">\n      <path d=\"M 44.905469 290.214985 \nL 602.905469 290.214985 \n\" clip-path=\"url(#pbd197ead3c)\" style=\"fill: none; stroke: #ffffff; stroke-linecap: round\"/>\n     </g>\n     <g id=\"line2d_18\"/>\n     <g id=\"text_10\">\n      <!-- 1.0 -->\n      <g style=\"fill: #262626\" transform=\"translate(22.002344 294.014203) scale(0.1 -0.1)\">\n       <use xlink:href=\"#DejaVuSerif-31\"/>\n       <use xlink:href=\"#DejaVuSerif-2e\" x=\"63.623047\"/>\n       <use xlink:href=\"#DejaVuSerif-30\" x=\"95.410156\"/>\n      </g>\n     </g>\n    </g>\n    <g id=\"ytick_3\">\n     <g id=\"line2d_19\">\n      <path d=\"M 44.905469 247.179552 \nL 602.905469 247.179552 \n\" clip-path=\"url(#pbd197ead3c)\" style=\"fill: none; stroke: #ffffff; stroke-linecap: round\"/>\n     </g>\n     <g id=\"line2d_20\"/>\n     <g id=\"text_11\">\n      <!-- 1.2 -->\n      <g style=\"fill: #262626\" transform=\"translate(22.002344 250.978771) scale(0.1 -0.1)\">\n       <use xlink:href=\"#DejaVuSerif-31\"/>\n       <use xlink:href=\"#DejaVuSerif-2e\" x=\"63.623047\"/>\n       <use xlink:href=\"#DejaVuSerif-32\" x=\"95.410156\"/>\n      </g>\n     </g>\n    </g>\n    <g id=\"ytick_4\">\n     <g id=\"line2d_21\">\n      <path d=\"M 44.905469 204.144119 \nL 602.905469 204.144119 \n\" clip-path=\"url(#pbd197ead3c)\" style=\"fill: none; stroke: #ffffff; stroke-linecap: round\"/>\n     </g>\n     <g id=\"line2d_22\"/>\n     <g id=\"text_12\">\n      <!-- 1.4 -->\n      <g style=\"fill: #262626\" transform=\"translate(22.002344 207.943338) scale(0.1 -0.1)\">\n       <use xlink:href=\"#DejaVuSerif-31\"/>\n       <use xlink:href=\"#DejaVuSerif-2e\" x=\"63.623047\"/>\n       <use xlink:href=\"#DejaVuSerif-34\" x=\"95.410156\"/>\n      </g>\n     </g>\n    </g>\n    <g id=\"ytick_5\">\n     <g id=\"line2d_23\">\n      <path d=\"M 44.905469 161.108687 \nL 602.905469 161.108687 \n\" clip-path=\"url(#pbd197ead3c)\" style=\"fill: none; stroke: #ffffff; stroke-linecap: round\"/>\n     </g>\n     <g id=\"line2d_24\"/>\n     <g id=\"text_13\">\n      <!-- 1.6 -->\n      <g style=\"fill: #262626\" transform=\"translate(22.002344 164.907905) scale(0.1 -0.1)\">\n       <use xlink:href=\"#DejaVuSerif-31\"/>\n       <use xlink:href=\"#DejaVuSerif-2e\" x=\"63.623047\"/>\n       <use xlink:href=\"#DejaVuSerif-36\" x=\"95.410156\"/>\n      </g>\n     </g>\n    </g>\n    <g id=\"ytick_6\">\n     <g id=\"line2d_25\">\n      <path d=\"M 44.905469 118.073254 \nL 602.905469 118.073254 \n\" clip-path=\"url(#pbd197ead3c)\" style=\"fill: none; stroke: #ffffff; stroke-linecap: round\"/>\n     </g>\n     <g id=\"line2d_26\"/>\n     <g id=\"text_14\">\n      <!-- 1.8 -->\n      <g style=\"fill: #262626\" transform=\"translate(22.002344 121.872473) scale(0.1 -0.1)\">\n       <use xlink:href=\"#DejaVuSerif-31\"/>\n       <use xlink:href=\"#DejaVuSerif-2e\" x=\"63.623047\"/>\n       <use xlink:href=\"#DejaVuSerif-38\" x=\"95.410156\"/>\n      </g>\n     </g>\n    </g>\n    <g id=\"ytick_7\">\n     <g id=\"line2d_27\">\n      <path d=\"M 44.905469 75.037821 \nL 602.905469 75.037821 \n\" clip-path=\"url(#pbd197ead3c)\" style=\"fill: none; stroke: #ffffff; stroke-linecap: round\"/>\n     </g>\n     <g id=\"line2d_28\"/>\n     <g id=\"text_15\">\n      <!-- 2.0 -->\n      <g style=\"fill: #262626\" transform=\"translate(22.002344 78.83704) scale(0.1 -0.1)\">\n       <use xlink:href=\"#DejaVuSerif-32\"/>\n       <use xlink:href=\"#DejaVuSerif-2e\" x=\"63.623047\"/>\n       <use xlink:href=\"#DejaVuSerif-30\" x=\"95.410156\"/>\n      </g>\n     </g>\n    </g>\n    <g id=\"ytick_8\">\n     <g id=\"line2d_29\">\n      <path d=\"M 44.905469 32.002389 \nL 602.905469 32.002389 \n\" clip-path=\"url(#pbd197ead3c)\" style=\"fill: none; stroke: #ffffff; stroke-linecap: round\"/>\n     </g>\n     <g id=\"line2d_30\"/>\n     <g id=\"text_16\">\n      <!-- 2.2 -->\n      <g style=\"fill: #262626\" transform=\"translate(22.002344 35.801607) scale(0.1 -0.1)\">\n       <use xlink:href=\"#DejaVuSerif-32\"/>\n       <use xlink:href=\"#DejaVuSerif-2e\" x=\"63.623047\"/>\n       <use xlink:href=\"#DejaVuSerif-32\" x=\"95.410156\"/>\n      </g>\n     </g>\n    </g>\n    <g id=\"text_17\">\n     <!-- gross performance -->\n     <g style=\"fill: #262626\" transform=\"translate(15.558281 226.126641) rotate(-90) scale(0.11 -0.11)\">\n      <defs>\n       <path id=\"DejaVuSerif-67\" d=\"M 3359 2988 \nL 3359 72 \nQ 3359 -644 2965 -1033 \nQ 2572 -1422 1844 -1422 \nQ 1516 -1422 1216 -1362 \nQ 916 -1303 641 -1184 \nL 641 -488 \nL 941 -488 \nQ 997 -813 1206 -963 \nQ 1416 -1113 1806 -1113 \nQ 2313 -1113 2548 -827 \nQ 2784 -541 2784 72 \nL 2784 519 \nQ 2616 206 2355 57 \nQ 2094 -91 1709 -91 \nQ 1097 -91 708 395 \nQ 319 881 319 1663 \nQ 319 2444 706 2928 \nQ 1094 3413 1709 3413 \nQ 2094 3413 2355 3264 \nQ 2616 3116 2784 2803 \nL 2784 3322 \nL 3909 3322 \nL 3909 2988 \nL 3359 2988 \nz\nM 2784 1825 \nQ 2784 2422 2554 2737 \nQ 2325 3053 1888 3053 \nQ 1444 3053 1217 2703 \nQ 991 2353 991 1663 \nQ 991 975 1217 622 \nQ 1444 269 1888 269 \nQ 2325 269 2554 583 \nQ 2784 897 2784 1497 \nL 2784 1825 \nz\n\" transform=\"scale(0.015625)\"/>\n       <path id=\"DejaVuSerif-72\" d=\"M 3059 3328 \nL 3059 2497 \nL 2728 2497 \nQ 2713 2744 2591 2866 \nQ 2469 2988 2234 2988 \nQ 1809 2988 1582 2694 \nQ 1356 2400 1356 1850 \nL 1356 331 \nL 2022 331 \nL 2022 0 \nL 263 0 \nL 263 331 \nL 781 331 \nL 781 2994 \nL 231 2994 \nL 231 3322 \nL 1356 3322 \nL 1356 2731 \nQ 1525 3078 1790 3245 \nQ 2056 3413 2438 3413 \nQ 2578 3413 2733 3391 \nQ 2888 3369 3059 3328 \nz\n\" transform=\"scale(0.015625)\"/>\n       <path id=\"DejaVuSerif-20\" transform=\"scale(0.015625)\"/>\n       <path id=\"DejaVuSerif-66\" d=\"M 2753 4078 \nL 2450 4078 \nQ 2447 4313 2317 4434 \nQ 2188 4556 1941 4556 \nQ 1619 4556 1487 4379 \nQ 1356 4203 1356 3750 \nL 1356 3322 \nL 2284 3322 \nL 2284 2988 \nL 1356 2988 \nL 1356 331 \nL 2094 331 \nL 2094 0 \nL 231 0 \nL 231 331 \nL 781 331 \nL 781 2988 \nL 231 2988 \nL 231 3322 \nL 781 3322 \nL 781 3738 \nQ 781 4294 1070 4578 \nQ 1359 4863 1919 4863 \nQ 2128 4863 2337 4825 \nQ 2547 4788 2753 4709 \nL 2753 4078 \nz\n\" transform=\"scale(0.015625)\"/>\n       <path id=\"DejaVuSerif-6d\" d=\"M 3316 2675 \nQ 3481 3041 3739 3227 \nQ 3997 3413 4341 3413 \nQ 4863 3413 5119 3089 \nQ 5375 2766 5375 2113 \nL 5375 331 \nL 5894 331 \nL 5894 0 \nL 4300 0 \nL 4300 331 \nL 4800 331 \nL 4800 2047 \nQ 4800 2556 4650 2772 \nQ 4500 2988 4153 2988 \nQ 3769 2988 3567 2697 \nQ 3366 2406 3366 1850 \nL 3366 331 \nL 3866 331 \nL 3866 0 \nL 2291 0 \nL 2291 331 \nL 2791 331 \nL 2791 2069 \nQ 2791 2566 2641 2777 \nQ 2491 2988 2144 2988 \nQ 1759 2988 1557 2697 \nQ 1356 2406 1356 1850 \nL 1356 331 \nL 1856 331 \nL 1856 0 \nL 263 0 \nL 263 331 \nL 781 331 \nL 781 2994 \nL 231 2994 \nL 231 3322 \nL 1356 3322 \nL 1356 2731 \nQ 1516 3063 1762 3238 \nQ 2009 3413 2322 3413 \nQ 2709 3413 2968 3220 \nQ 3228 3028 3316 2675 \nz\n\" transform=\"scale(0.015625)\"/>\n       <path id=\"DejaVuSerif-61\" d=\"M 2547 1044 \nL 2547 1747 \nL 1806 1747 \nQ 1378 1747 1168 1562 \nQ 959 1378 959 997 \nQ 959 650 1171 447 \nQ 1384 244 1747 244 \nQ 2106 244 2326 466 \nQ 2547 688 2547 1044 \nz\nM 3122 2075 \nL 3122 331 \nL 3634 331 \nL 3634 0 \nL 2547 0 \nL 2547 359 \nQ 2356 128 2106 18 \nQ 1856 -91 1522 -91 \nQ 969 -91 644 203 \nQ 319 497 319 997 \nQ 319 1513 691 1797 \nQ 1063 2081 1741 2081 \nL 2547 2081 \nL 2547 2309 \nQ 2547 2688 2317 2895 \nQ 2088 3103 1672 3103 \nQ 1328 3103 1125 2947 \nQ 922 2791 872 2484 \nL 575 2484 \nL 575 3156 \nQ 875 3284 1158 3348 \nQ 1441 3413 1709 3413 \nQ 2400 3413 2761 3070 \nQ 3122 2728 3122 2075 \nz\n\" transform=\"scale(0.015625)\"/>\n       <path id=\"DejaVuSerif-6e\" d=\"M 263 0 \nL 263 331 \nL 781 331 \nL 781 2988 \nL 231 2988 \nL 231 3322 \nL 1356 3322 \nL 1356 2731 \nQ 1516 3069 1770 3241 \nQ 2025 3413 2363 3413 \nQ 2913 3413 3172 3097 \nQ 3431 2781 3431 2113 \nL 3431 331 \nL 3944 331 \nL 3944 0 \nL 2356 0 \nL 2356 331 \nL 2853 331 \nL 2853 1931 \nQ 2853 2541 2703 2767 \nQ 2553 2994 2175 2994 \nQ 1775 2994 1565 2701 \nQ 1356 2409 1356 1850 \nL 1356 331 \nL 1856 331 \nL 1856 0 \nL 263 0 \nz\n\" transform=\"scale(0.015625)\"/>\n       <path id=\"DejaVuSerif-63\" d=\"M 3291 997 \nQ 3169 466 2822 187 \nQ 2475 -91 1925 -91 \nQ 1200 -91 759 389 \nQ 319 869 319 1663 \nQ 319 2459 759 2936 \nQ 1200 3413 1925 3413 \nQ 2241 3413 2553 3339 \nQ 2866 3266 3181 3116 \nL 3181 2266 \nL 2847 2266 \nQ 2781 2703 2561 2903 \nQ 2341 3103 1931 3103 \nQ 1466 3103 1228 2742 \nQ 991 2381 991 1663 \nQ 991 944 1227 581 \nQ 1463 219 1931 219 \nQ 2303 219 2525 412 \nQ 2747 606 2828 997 \nL 3291 997 \nz\n\" transform=\"scale(0.015625)\"/>\n      </defs>\n      <use xlink:href=\"#DejaVuSerif-67\"/>\n      <use xlink:href=\"#DejaVuSerif-72\" x=\"64.013672\"/>\n      <use xlink:href=\"#DejaVuSerif-6f\" x=\"111.816406\"/>\n      <use xlink:href=\"#DejaVuSerif-73\" x=\"172.021484\"/>\n      <use xlink:href=\"#DejaVuSerif-73\" x=\"223.339844\"/>\n      <use xlink:href=\"#DejaVuSerif-20\" x=\"274.658203\"/>\n      <use xlink:href=\"#DejaVuSerif-70\" x=\"306.445312\"/>\n      <use xlink:href=\"#DejaVuSerif-65\" x=\"370.458984\"/>\n      <use xlink:href=\"#DejaVuSerif-72\" x=\"429.638672\"/>\n      <use xlink:href=\"#DejaVuSerif-66\" x=\"477.441406\"/>\n      <use xlink:href=\"#DejaVuSerif-6f\" x=\"514.453125\"/>\n      <use xlink:href=\"#DejaVuSerif-72\" x=\"574.658203\"/>\n      <use xlink:href=\"#DejaVuSerif-6d\" x=\"622.460938\"/>\n      <use xlink:href=\"#DejaVuSerif-61\" x=\"717.285156\"/>\n      <use xlink:href=\"#DejaVuSerif-6e\" x=\"776.904297\"/>\n      <use xlink:href=\"#DejaVuSerif-63\" x=\"841.308594\"/>\n      <use xlink:href=\"#DejaVuSerif-65\" x=\"897.314453\"/>\n     </g>\n    </g>\n   </g>\n   <g id=\"line2d_31\">\n    <path d=\"M 70.269105 242.055541 \nL 78.585051 322.95549 \nL 86.900998 323.624906 \nL 95.216944 288.039367 \nL 103.532891 282.129669 \nL 111.848837 287.076052 \nL 120.164783 274.307262 \nL 128.48073 279.481616 \nL 136.796676 75.778632 \nL 145.112622 323.516995 \nL 153.428569 322.704478 \nL 161.744515 296.022906 \nL 170.060461 207.519386 \nL 178.376408 112.091636 \nL 186.692354 221.264131 \nL 195.0083 324.72 \nL 203.324247 212.164415 \nL 211.640193 203.455032 \nL 219.956139 225.233561 \nL 228.272086 237.17582 \nL 236.588032 222.514696 \nL 244.903978 302.147835 \nL 253.219925 322.603199 \nL 261.535871 249.966633 \nL 269.851817 279.200421 \nL 278.167764 322.675796 \nL 286.48371 22.32 \nL 294.799657 322.65486 \nL 303.115603 322.918919 \nL 311.431549 324.010816 \nL 319.747496 247.528613 \nL 328.063442 322.568269 \nL 336.379388 322.580768 \nL 344.695335 275.577959 \nL 353.011281 265.681627 \nL 361.327227 218.743847 \nL 369.643174 189.34434 \nL 377.95912 323.352783 \nL 386.275066 256.280104 \nL 394.591013 217.80667 \nL 402.906959 292.144189 \nL 411.222905 203.833544 \nL 419.538852 226.494425 \nL 427.854798 284.905267 \nL 436.170744 210.1654 \nL 444.486691 259.299683 \nL 452.802637 287.341099 \nL 461.118584 261.062027 \nL 469.43453 322.865946 \nL 477.750476 252.05641 \nL 486.066423 323.118571 \nL 494.382369 323.330918 \nL 502.698315 215.513867 \nL 511.014262 322.497772 \nL 519.330208 311.863246 \nL 527.646154 215.284374 \nL 535.962101 249.659283 \nL 544.278047 303.088672 \nL 552.593993 232.552557 \nL 560.90994 215.442385 \nL 569.225886 285.861257 \n\" clip-path=\"url(#pbd197ead3c)\" style=\"fill: none; stroke: #4c72b0; stroke-width: 1.75; stroke-linecap: round\"/>\n   </g>\n   <g id=\"line2d_32\">\n    <path d=\"M 70.269105 309.750906 \nL 78.585051 313.128158 \nL 86.900998 307.214296 \nL 95.216944 297.846761 \nL 103.532891 304.133179 \nL 111.848837 309.542751 \nL 120.164783 322.827772 \nL 128.48073 322.523663 \nL 136.796676 313.902341 \nL 145.112622 302.882256 \nL 153.428569 281.528604 \nL 161.744515 298.216674 \nL 170.060461 298.366704 \nL 178.376408 286.165976 \nL 186.692354 300.48849 \nL 195.0083 288.794637 \nL 203.324247 279.287142 \nL 211.640193 281.177276 \nL 219.956139 268.971357 \nL 228.272086 276.393713 \nL 236.588032 277.680681 \nL 244.903978 268.622286 \nL 253.219925 271.348808 \nL 261.535871 271.004819 \nL 269.851817 271.004819 \nL 278.167764 271.004819 \nL 286.48371 271.004819 \nL 294.799657 271.004819 \nL 303.115603 271.004819 \nL 311.431549 271.004819 \nL 319.747496 271.004819 \nL 328.063442 271.004819 \nL 336.379388 271.004819 \nL 344.695335 271.004819 \nL 353.011281 271.004819 \nL 361.327227 271.004819 \nL 369.643174 271.004819 \nL 377.95912 271.004819 \nL 386.275066 271.004819 \nL 394.591013 271.004819 \nL 402.906959 271.004819 \nL 411.222905 271.004819 \nL 419.538852 271.004819 \nL 427.854798 271.004819 \nL 436.170744 271.004819 \nL 444.486691 271.004819 \nL 452.802637 271.004819 \nL 461.118584 271.004819 \nL 469.43453 271.004819 \nL 477.750476 271.004819 \nL 486.066423 271.004819 \nL 494.382369 271.004819 \nL 502.698315 271.004819 \nL 511.014262 271.004819 \nL 519.330208 271.004819 \nL 527.646154 271.004819 \nL 535.962101 271.004819 \nL 544.278047 271.004819 \nL 552.593993 271.004819 \nL 560.90994 271.004819 \nL 569.225886 271.004819 \n\" clip-path=\"url(#pbd197ead3c)\" style=\"fill: none; stroke: #55a868; stroke-width: 1.75; stroke-linecap: round\"/>\n   </g>\n   <g id=\"line2d_33\">\n    <path d=\"M 78.585051 290.58889 \nL 86.900998 285.18265 \nL 95.216944 280.196757 \nL 103.532891 275.617854 \nL 111.848837 271.432583 \nL 120.164783 267.627587 \nL 128.48073 264.189508 \nL 136.796676 261.10499 \nL 145.112622 258.360674 \nL 153.428569 255.943204 \nL 161.744515 253.839222 \nL 170.060461 252.03537 \nL 178.376408 250.518292 \nL 186.692354 249.274629 \nL 195.0083 248.291025 \nL 203.324247 247.554122 \nL 211.640193 247.050563 \nL 219.956139 246.76699 \nL 228.272086 246.690046 \nL 236.588032 246.806374 \nL 244.903978 247.102615 \nL 253.219925 247.565414 \nL 261.535871 248.181411 \nL 269.851817 248.937251 \nL 278.167764 249.819575 \nL 286.48371 250.815027 \nL 294.799657 251.910248 \nL 303.115603 253.091882 \nL 311.431549 254.346571 \nL 319.747496 255.660957 \nL 328.063442 257.021684 \nL 336.379388 258.415394 \nL 344.695335 259.828729 \nL 353.011281 261.248332 \nL 361.327227 262.660846 \nL 369.643174 264.052913 \nL 377.95912 265.411177 \nL 386.275066 266.722278 \nL 394.591013 267.972862 \nL 402.906959 269.149568 \nL 411.222905 270.239042 \nL 419.538852 271.227924 \nL 427.854798 272.102858 \nL 436.170744 272.850486 \nL 444.486691 273.457451 \nL 452.802637 273.910396 \nL 461.118584 274.195962 \nL 469.43453 274.300794 \nL 477.750476 274.211532 \nL 486.066423 273.914821 \nL 494.382369 273.397302 \nL 502.698315 272.645618 \nL 511.014262 271.646412 \nL 519.330208 270.386327 \nL 527.646154 268.852004 \nL 535.962101 267.030087 \nL 544.278047 264.907218 \nL 552.593993 262.47004 \nL 560.90994 259.705196 \nL 569.225886 256.599328 \nL 577.541832 253.139078 \n\" clip-path=\"url(#pbd197ead3c)\" style=\"fill: none; stroke-dasharray: 6.475,2.8; stroke-dashoffset: 0; stroke: #ff0000; stroke-width: 1.75\"/>\n   </g>\n   <g id=\"line2d_34\">\n    <path d=\"M 78.585051 320.111309 \nL 86.900998 317.03615 \nL 95.216944 314.082246 \nL 103.532891 311.247329 \nL 111.848837 308.529129 \nL 120.164783 305.925377 \nL 128.48073 303.433803 \nL 136.796676 301.052138 \nL 145.112622 298.778113 \nL 153.428569 296.609458 \nL 161.744515 294.543904 \nL 170.060461 292.579182 \nL 178.376408 290.713022 \nL 186.692354 288.943155 \nL 195.0083 287.267312 \nL 203.324247 285.683223 \nL 211.640193 284.188619 \nL 219.956139 282.781231 \nL 228.272086 281.458789 \nL 236.588032 280.219024 \nL 244.903978 279.059667 \nL 253.219925 277.978448 \nL 261.535871 276.973099 \nL 269.851817 276.041348 \nL 278.167764 275.180929 \nL 286.48371 274.38957 \nL 294.799657 273.665003 \nL 303.115603 273.004958 \nL 311.431549 272.407166 \nL 319.747496 271.869358 \nL 328.063442 271.389264 \nL 336.379388 270.964615 \nL 344.695335 270.593142 \nL 353.011281 270.272575 \nL 361.327227 270.000646 \nL 369.643174 269.775083 \nL 377.95912 269.59362 \nL 386.275066 269.453985 \nL 394.591013 269.35391 \nL 402.906959 269.291125 \nL 411.222905 269.263361 \nL 419.538852 269.268349 \nL 427.854798 269.303819 \nL 436.170744 269.367502 \nL 444.486691 269.457129 \nL 452.802637 269.57043 \nL 461.118584 269.705136 \nL 469.43453 269.858977 \nL 477.750476 270.029685 \nL 486.066423 270.21499 \nL 494.382369 270.412623 \nL 502.698315 270.620314 \nL 511.014262 270.835794 \nL 519.330208 271.056793 \nL 527.646154 271.281043 \nL 535.962101 271.506274 \nL 544.278047 271.730217 \nL 552.593993 271.950601 \nL 560.90994 272.165159 \nL 569.225886 272.371621 \nL 577.541832 272.567716 \n\" clip-path=\"url(#pbd197ead3c)\" style=\"fill: none; stroke-dasharray: 11.2,2.8,1.75,2.8; stroke-dashoffset: 0; stroke: #ff0000; stroke-width: 1.75\"/>\n   </g>\n   <g id=\"patch_3\">\n    <path d=\"M 44.905469 339.84 \nL 44.905469 7.2 \n\" style=\"fill: none\"/>\n   </g>\n   <g id=\"patch_4\">\n    <path d=\"M 602.905469 339.84 \nL 602.905469 7.2 \n\" style=\"fill: none\"/>\n   </g>\n   <g id=\"patch_5\">\n    <path d=\"M 44.905469 339.84 \nL 602.905469 339.84 \n\" style=\"fill: none\"/>\n   </g>\n   <g id=\"patch_6\">\n    <path d=\"M 44.905469 7.2 \nL 602.905469 7.2 \n\" style=\"fill: none\"/>\n   </g>\n   <g id=\"legend_1\">\n    <g id=\"line2d_35\">\n     <path d=\"M 476.792969 20.298437 \nL 486.792969 20.298437 \nL 496.792969 20.298437 \n\" style=\"fill: none; stroke: #4c72b0; stroke-width: 1.75; stroke-linecap: round\"/>\n    </g>\n    <g id=\"text_18\">\n     <!-- training -->\n     <g style=\"fill: #262626\" transform=\"translate(504.792969 23.798437) scale(0.1 -0.1)\">\n      <defs>\n       <path id=\"DejaVuSerif-74\" d=\"M 691 2988 \nL 184 2988 \nL 184 3322 \nL 691 3322 \nL 691 4353 \nL 1269 4353 \nL 1269 3322 \nL 2350 3322 \nL 2350 2988 \nL 1269 2988 \nL 1269 878 \nQ 1269 456 1350 337 \nQ 1431 219 1650 219 \nQ 1875 219 1978 351 \nQ 2081 484 2088 781 \nL 2522 781 \nQ 2497 328 2275 118 \nQ 2053 -91 1600 -91 \nQ 1103 -91 897 129 \nQ 691 350 691 878 \nL 691 2988 \nz\n\" transform=\"scale(0.015625)\"/>\n      </defs>\n      <use xlink:href=\"#DejaVuSerif-74\"/>\n      <use xlink:href=\"#DejaVuSerif-72\" x=\"40.185547\"/>\n      <use xlink:href=\"#DejaVuSerif-61\" x=\"87.988281\"/>\n      <use xlink:href=\"#DejaVuSerif-69\" x=\"147.607422\"/>\n      <use xlink:href=\"#DejaVuSerif-6e\" x=\"179.589844\"/>\n      <use xlink:href=\"#DejaVuSerif-69\" x=\"243.994141\"/>\n      <use xlink:href=\"#DejaVuSerif-6e\" x=\"275.976562\"/>\n      <use xlink:href=\"#DejaVuSerif-67\" x=\"340.380859\"/>\n     </g>\n    </g>\n    <g id=\"line2d_36\">\n     <path d=\"M 476.792969 35.11875 \nL 486.792969 35.11875 \nL 496.792969 35.11875 \n\" style=\"fill: none; stroke: #55a868; stroke-width: 1.75; stroke-linecap: round\"/>\n    </g>\n    <g id=\"text_19\">\n     <!-- validation -->\n     <g style=\"fill: #262626\" transform=\"translate(504.792969 38.61875) scale(0.1 -0.1)\">\n      <defs>\n       <path id=\"DejaVuSerif-76\" d=\"M 1581 0 \nL 359 2988 \nL -19 2988 \nL -19 3322 \nL 1509 3322 \nL 1509 2988 \nL 978 2988 \nL 1913 703 \nL 2847 2988 \nL 2350 2988 \nL 2350 3322 \nL 3597 3322 \nL 3597 2988 \nL 3225 2988 \nL 2003 0 \nL 1581 0 \nz\n\" transform=\"scale(0.015625)\"/>\n       <path id=\"DejaVuSerif-6c\" d=\"M 1313 331 \nL 1856 331 \nL 1856 0 \nL 184 0 \nL 184 331 \nL 738 331 \nL 738 4531 \nL 184 4531 \nL 184 4863 \nL 1313 4863 \nL 1313 331 \nz\n\" transform=\"scale(0.015625)\"/>\n      </defs>\n      <use xlink:href=\"#DejaVuSerif-76\"/>\n      <use xlink:href=\"#DejaVuSerif-61\" x=\"56.494141\"/>\n      <use xlink:href=\"#DejaVuSerif-6c\" x=\"116.113281\"/>\n      <use xlink:href=\"#DejaVuSerif-69\" x=\"148.095703\"/>\n      <use xlink:href=\"#DejaVuSerif-64\" x=\"180.078125\"/>\n      <use xlink:href=\"#DejaVuSerif-61\" x=\"244.091797\"/>\n      <use xlink:href=\"#DejaVuSerif-74\" x=\"303.710938\"/>\n      <use xlink:href=\"#DejaVuSerif-69\" x=\"343.896484\"/>\n      <use xlink:href=\"#DejaVuSerif-6f\" x=\"375.878906\"/>\n      <use xlink:href=\"#DejaVuSerif-6e\" x=\"436.083984\"/>\n     </g>\n    </g>\n    <g id=\"line2d_37\">\n     <path d=\"M 476.792969 49.796875 \nL 486.792969 49.796875 \nL 496.792969 49.796875 \n\" style=\"fill: none; stroke-dasharray: 6.475,2.8; stroke-dashoffset: 0; stroke: #ff0000; stroke-width: 1.75\"/>\n    </g>\n    <g id=\"text_20\">\n     <!-- regression (train) -->\n     <g style=\"fill: #262626\" transform=\"translate(504.792969 53.296875) scale(0.1 -0.1)\">\n      <defs>\n       <path id=\"DejaVuSerif-28\" d=\"M 2041 -997 \nQ 1281 -656 893 83 \nQ 506 822 506 1931 \nQ 506 3044 893 3783 \nQ 1281 4522 2041 4863 \nL 2041 4556 \nQ 1559 4225 1350 3623 \nQ 1141 3022 1141 1931 \nQ 1141 844 1350 242 \nQ 1559 -359 2041 -691 \nL 2041 -997 \nz\n\" transform=\"scale(0.015625)\"/>\n       <path id=\"DejaVuSerif-29\" d=\"M 453 -997 \nL 453 -691 \nQ 934 -359 1145 242 \nQ 1356 844 1356 1931 \nQ 1356 3022 1145 3623 \nQ 934 4225 453 4556 \nL 453 4863 \nQ 1216 4522 1603 3783 \nQ 1991 3044 1991 1931 \nQ 1991 822 1603 83 \nQ 1216 -656 453 -997 \nz\n\" transform=\"scale(0.015625)\"/>\n      </defs>\n      <use xlink:href=\"#DejaVuSerif-72\"/>\n      <use xlink:href=\"#DejaVuSerif-65\" x=\"47.802734\"/>\n      <use xlink:href=\"#DejaVuSerif-67\" x=\"106.982422\"/>\n      <use xlink:href=\"#DejaVuSerif-72\" x=\"170.996094\"/>\n      <use xlink:href=\"#DejaVuSerif-65\" x=\"218.798828\"/>\n      <use xlink:href=\"#DejaVuSerif-73\" x=\"277.978516\"/>\n      <use xlink:href=\"#DejaVuSerif-73\" x=\"329.296875\"/>\n      <use xlink:href=\"#DejaVuSerif-69\" x=\"380.615234\"/>\n      <use xlink:href=\"#DejaVuSerif-6f\" x=\"412.597656\"/>\n      <use xlink:href=\"#DejaVuSerif-6e\" x=\"472.802734\"/>\n      <use xlink:href=\"#DejaVuSerif-20\" x=\"537.207031\"/>\n      <use xlink:href=\"#DejaVuSerif-28\" x=\"568.994141\"/>\n      <use xlink:href=\"#DejaVuSerif-74\" x=\"608.007812\"/>\n      <use xlink:href=\"#DejaVuSerif-72\" x=\"648.193359\"/>\n      <use xlink:href=\"#DejaVuSerif-61\" x=\"695.996094\"/>\n      <use xlink:href=\"#DejaVuSerif-69\" x=\"755.615234\"/>\n      <use xlink:href=\"#DejaVuSerif-6e\" x=\"787.597656\"/>\n      <use xlink:href=\"#DejaVuSerif-29\" x=\"852.001953\"/>\n     </g>\n    </g>\n    <g id=\"line2d_38\">\n     <path d=\"M 476.792969 64.617188 \nL 486.792969 64.617188 \nL 496.792969 64.617188 \n\" style=\"fill: none; stroke-dasharray: 11.2,2.8,1.75,2.8; stroke-dashoffset: 0; stroke: #ff0000; stroke-width: 1.75\"/>\n    </g>\n    <g id=\"text_21\">\n     <!-- regression (valid) -->\n     <g style=\"fill: #262626\" transform=\"translate(504.792969 68.117188) scale(0.1 -0.1)\">\n      <use xlink:href=\"#DejaVuSerif-72\"/>\n      <use xlink:href=\"#DejaVuSerif-65\" x=\"47.802734\"/>\n      <use xlink:href=\"#DejaVuSerif-67\" x=\"106.982422\"/>\n      <use xlink:href=\"#DejaVuSerif-72\" x=\"170.996094\"/>\n      <use xlink:href=\"#DejaVuSerif-65\" x=\"218.798828\"/>\n      <use xlink:href=\"#DejaVuSerif-73\" x=\"277.978516\"/>\n      <use xlink:href=\"#DejaVuSerif-73\" x=\"329.296875\"/>\n      <use xlink:href=\"#DejaVuSerif-69\" x=\"380.615234\"/>\n      <use xlink:href=\"#DejaVuSerif-6f\" x=\"412.597656\"/>\n      <use xlink:href=\"#DejaVuSerif-6e\" x=\"472.802734\"/>\n      <use xlink:href=\"#DejaVuSerif-20\" x=\"537.207031\"/>\n      <use xlink:href=\"#DejaVuSerif-28\" x=\"568.994141\"/>\n      <use xlink:href=\"#DejaVuSerif-76\" x=\"608.007812\"/>\n      <use xlink:href=\"#DejaVuSerif-61\" x=\"664.501953\"/>\n      <use xlink:href=\"#DejaVuSerif-6c\" x=\"724.121094\"/>\n      <use xlink:href=\"#DejaVuSerif-69\" x=\"756.103516\"/>\n      <use xlink:href=\"#DejaVuSerif-64\" x=\"788.085938\"/>\n      <use xlink:href=\"#DejaVuSerif-29\" x=\"852.099609\"/>\n     </g>\n    </g>\n   </g>\n  </g>\n </g>\n <defs>\n  <clipPath id=\"pbd197ead3c\">\n   <rect x=\"44.905469\" y=\"7.2\" width=\"558\" height=\"332.64\"/>\n  </clipPath>\n </defs>\n</svg>\n",
            "text/plain": [
              "<Figure size 1000x600 with 1 Axes>"
            ]
          },
          "metadata": {},
          "output_type": "display_data"
        }
      ],
      "source": [
        "plt.figure(figsize=(10, 6))\n",
        "x = range(1, len(agent.performances) + 1)\n",
        "y = np.polyval(np.polyfit(x, agent.performances, deg=3), x)\n",
        "y_ = np.polyval(np.polyfit(x, agent.vperformances, deg=3), x)\n",
        "plt.plot(agent.performances[:], label='training')\n",
        "plt.plot(agent.vperformances[:], label='validation')\n",
        "plt.plot(x, y, 'r--', label='regression (train)')\n",
        "plt.plot(x, y_, 'r-.', label='regression (valid)')\n",
        "plt.xlabel('episodes')\n",
        "plt.ylabel('gross performance')\n",
        "plt.legend();\n"
      ]
    },
    {
      "cell_type": "code",
      "execution_count": null,
      "metadata": {
        "colab": {
          "background_save": true
        },
        "id": "PhxPjvLmZRld",
        "outputId": "c04d27ea-6578-4623-e818-53b5982aee18"
      },
      "outputs": [
        {
          "data": {
            "text/plain": [
              "(array([[ 1.5876, -0.1208,  0.6   ],\n",
              "        [ 1.6292,  0.6083,  0.6123],\n",
              "        [ 1.6408,  0.1807,  0.3693],\n",
              "        [ 1.5725, -0.9502,  0.0035],\n",
              "        [ 1.5228, -0.6896, -0.0114]]),\n",
              " -1.0047717120445376,\n",
              " False,\n",
              " {})"
            ]
          },
          "execution_count": 41,
          "metadata": {},
          "output_type": "execute_result"
        }
      ],
      "source": []
    },
    {
      "cell_type": "code",
      "execution_count": null,
      "metadata": {
        "colab": {
          "background_save": true
        },
        "id": "MEI1UoLsZRn9",
        "outputId": "f1391a8a-c3a3-428e-ea42-4f79474ba1d9"
      },
      "outputs": [
        {
          "name": "stdout",
          "output_type": "stream",
          "text": [
            "Episode 26 Parameters:\n",
            "Total Reward: 918\n",
            "Performance: 0.8491437895042537\n",
            "Rolling Average: 1577.72\n",
            "Max Total Reward So Far: 1994\n"
          ]
        }
      ],
      "source": []
    }
  ],
  "metadata": {
    "accelerator": "GPU",
    "colab": {
      "provenance": [],
      "authorship_tag": "ABX9TyMqXp/n8ikelc2GWOIa5RJI",
      "include_colab_link": true
    },
    "kernelspec": {
      "display_name": "Python 3",
      "name": "python3"
    },
    "language_info": {
      "name": "python"
    }
  },
  "nbformat": 4,
  "nbformat_minor": 0
}